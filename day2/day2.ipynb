{
 "cells": [
  {
   "cell_type": "code",
   "execution_count": 1,
   "id": "ad45850f",
   "metadata": {
    "ExecuteTime": {
     "end_time": "2022-12-02T14:33:29.470610Z",
     "start_time": "2022-12-02T14:33:28.560257Z"
    }
   },
   "outputs": [],
   "source": [
    "import pandas as pd"
   ]
  },
  {
   "cell_type": "code",
   "execution_count": 2,
   "id": "6c2f9a6c",
   "metadata": {
    "ExecuteTime": {
     "end_time": "2022-12-02T14:33:29.477909Z",
     "start_time": "2022-12-02T14:33:29.474696Z"
    }
   },
   "outputs": [],
   "source": [
    "test = \"\"\"\n",
    "A Y\n",
    "B X\n",
    "C Z\n",
    "\"\"\".strip()"
   ]
  },
  {
   "cell_type": "markdown",
   "id": "728a5646",
   "metadata": {},
   "source": [
    "# Part 1"
   ]
  },
  {
   "cell_type": "code",
   "execution_count": 3,
   "id": "bbd830a9",
   "metadata": {
    "ExecuteTime": {
     "end_time": "2022-12-02T14:33:29.911381Z",
     "start_time": "2022-12-02T14:33:29.907679Z"
    }
   },
   "outputs": [],
   "source": [
    "values = {\n",
    "    'X': 1,\n",
    "    'Y': 2,\n",
    "    'Z': 3,\n",
    "}\n",
    "\n",
    "outcomes = {\n",
    "    ('A', 'X'): 3,\n",
    "    ('A', 'Y'): 6,\n",
    "    ('A', 'Z'): 0,\n",
    "    ('B', 'X'): 0,\n",
    "    ('B', 'Y'): 3,\n",
    "    ('B', 'Z'): 6,\n",
    "    ('C', 'X'): 6,\n",
    "    ('C', 'Y'): 0,\n",
    "    ('C', 'Z'): 3,\n",
    "}"
   ]
  },
  {
   "cell_type": "code",
   "execution_count": 4,
   "id": "97a48e23",
   "metadata": {
    "ExecuteTime": {
     "end_time": "2022-12-02T14:33:30.248387Z",
     "start_time": "2022-12-02T14:33:30.242938Z"
    }
   },
   "outputs": [],
   "source": [
    "def parse_input(input_):\n",
    "    return [line.split() for line in input_.splitlines()]\n",
    "\n",
    "def play(matches):\n",
    "    score = 0\n",
    "    for her, me in matches:\n",
    "        score += outcomes[(her, me)]\n",
    "        score += values[me]\n",
    "    return score"
   ]
  },
  {
   "cell_type": "code",
   "execution_count": 5,
   "id": "0db98c64",
   "metadata": {
    "ExecuteTime": {
     "end_time": "2022-12-02T14:33:30.693560Z",
     "start_time": "2022-12-02T14:33:30.684502Z"
    }
   },
   "outputs": [
    {
     "data": {
      "text/plain": [
       "15"
      ]
     },
     "execution_count": 5,
     "metadata": {},
     "output_type": "execute_result"
    }
   ],
   "source": [
    "play(parse_input(test))"
   ]
  },
  {
   "cell_type": "code",
   "execution_count": 6,
   "id": "0e9f90f0",
   "metadata": {
    "ExecuteTime": {
     "end_time": "2022-12-02T14:33:31.280184Z",
     "start_time": "2022-12-02T14:33:31.275656Z"
    }
   },
   "outputs": [],
   "source": [
    "with open('input.txt', 'r') as f:\n",
    "    input_ = f.read()"
   ]
  },
  {
   "cell_type": "code",
   "execution_count": 7,
   "id": "03ca2bbc",
   "metadata": {
    "ExecuteTime": {
     "end_time": "2022-12-02T14:33:31.697649Z",
     "start_time": "2022-12-02T14:33:31.691394Z"
    }
   },
   "outputs": [
    {
     "data": {
      "text/plain": [
       "12645"
      ]
     },
     "execution_count": 7,
     "metadata": {},
     "output_type": "execute_result"
    }
   ],
   "source": [
    "play(parse_input(input_))"
   ]
  },
  {
   "cell_type": "markdown",
   "id": "993ecf35",
   "metadata": {},
   "source": [
    "# Part 2"
   ]
  },
  {
   "cell_type": "code",
   "execution_count": 8,
   "id": "710d58a1",
   "metadata": {
    "ExecuteTime": {
     "end_time": "2022-12-02T14:33:32.335441Z",
     "start_time": "2022-12-02T14:33:32.331796Z"
    }
   },
   "outputs": [],
   "source": [
    "forced_outcome = {\n",
    "    'X': 0,\n",
    "    'Y': 3,\n",
    "    'Z': 6,\n",
    "}\n",
    "\n",
    "forced_outcome_to_choice = {\n",
    "    ('A', 'X'): 'Z',\n",
    "    ('A', 'Y'): 'X',\n",
    "    ('A', 'Z'): 'Y',\n",
    "    ('B', 'X'): 'X',\n",
    "    ('B', 'Y'): 'Y',\n",
    "    ('B', 'Z'): 'Z',\n",
    "    ('C', 'X'): 'Y',\n",
    "    ('C', 'Y'): 'Z',\n",
    "    ('C', 'Z'): 'X',\n",
    "}"
   ]
  },
  {
   "cell_type": "code",
   "execution_count": 9,
   "id": "292348b0",
   "metadata": {
    "ExecuteTime": {
     "end_time": "2022-12-02T14:33:32.726525Z",
     "start_time": "2022-12-02T14:33:32.723176Z"
    }
   },
   "outputs": [],
   "source": [
    "def play2(matches):\n",
    "    score = 0\n",
    "    for her, me in matches:\n",
    "        score += forced_outcome[me]\n",
    "        score += values[forced_outcome_to_choice[(her, me)]]\n",
    "    return score"
   ]
  },
  {
   "cell_type": "code",
   "execution_count": 10,
   "id": "40884be4",
   "metadata": {
    "ExecuteTime": {
     "end_time": "2022-12-02T14:33:33.030877Z",
     "start_time": "2022-12-02T14:33:33.026085Z"
    }
   },
   "outputs": [
    {
     "data": {
      "text/plain": [
       "12"
      ]
     },
     "execution_count": 10,
     "metadata": {},
     "output_type": "execute_result"
    }
   ],
   "source": [
    "play2(parse_input(test))"
   ]
  },
  {
   "cell_type": "code",
   "execution_count": 11,
   "id": "908cfab8",
   "metadata": {
    "ExecuteTime": {
     "end_time": "2022-12-02T14:33:33.394651Z",
     "start_time": "2022-12-02T14:33:33.387276Z"
    }
   },
   "outputs": [
    {
     "data": {
      "text/plain": [
       "11756"
      ]
     },
     "execution_count": 11,
     "metadata": {},
     "output_type": "execute_result"
    }
   ],
   "source": [
    "play2(parse_input(input_))"
   ]
  },
  {
   "cell_type": "code",
   "execution_count": null,
   "id": "453665c9",
   "metadata": {},
   "outputs": [],
   "source": []
  }
 ],
 "metadata": {
  "hide_input": false,
  "kernelspec": {
   "display_name": "Python 3 (ipykernel)",
   "language": "python",
   "name": "python3"
  },
  "language_info": {
   "codemirror_mode": {
    "name": "ipython",
    "version": 3
   },
   "file_extension": ".py",
   "mimetype": "text/x-python",
   "name": "python",
   "nbconvert_exporter": "python",
   "pygments_lexer": "ipython3",
   "version": "3.10.8"
  },
  "toc": {
   "nav_menu": {
    "height": "49.1406px",
    "width": "252px"
   },
   "navigate_menu": true,
   "number_sections": true,
   "sideBar": true,
   "threshold": 4,
   "toc_cell": false,
   "toc_section_display": "block",
   "toc_window_display": false
  }
 },
 "nbformat": 4,
 "nbformat_minor": 5
}
