{
 "cells": [
  {
   "cell_type": "code",
   "execution_count": 1,
   "id": "6a0bf45e",
   "metadata": {
    "ExecuteTime": {
     "end_time": "2022-12-15T10:49:47.889464Z",
     "start_time": "2022-12-15T10:49:46.588955Z"
    }
   },
   "outputs": [],
   "source": [
    "import matplotlib.pyplot as plt\n",
    "import numpy as np"
   ]
  },
  {
   "cell_type": "code",
   "execution_count": 2,
   "id": "5b1cb3ac",
   "metadata": {
    "ExecuteTime": {
     "end_time": "2022-12-15T10:49:47.897835Z",
     "start_time": "2022-12-15T10:49:47.892214Z"
    }
   },
   "outputs": [],
   "source": [
    "test = \"\"\"\n",
    "Sensor at x=2, y=18: closest beacon is at x=-2, y=15\n",
    "Sensor at x=9, y=16: closest beacon is at x=10, y=16\n",
    "Sensor at x=13, y=2: closest beacon is at x=15, y=3\n",
    "Sensor at x=12, y=14: closest beacon is at x=10, y=16\n",
    "Sensor at x=10, y=20: closest beacon is at x=10, y=16\n",
    "Sensor at x=14, y=17: closest beacon is at x=10, y=16\n",
    "Sensor at x=8, y=7: closest beacon is at x=2, y=10\n",
    "Sensor at x=2, y=0: closest beacon is at x=2, y=10\n",
    "Sensor at x=0, y=11: closest beacon is at x=2, y=10\n",
    "Sensor at x=20, y=14: closest beacon is at x=25, y=17\n",
    "Sensor at x=17, y=20: closest beacon is at x=21, y=22\n",
    "Sensor at x=16, y=7: closest beacon is at x=15, y=3\n",
    "Sensor at x=14, y=3: closest beacon is at x=15, y=3\n",
    "Sensor at x=20, y=1: closest beacon is at x=15, y=3\n",
    "\"\"\".strip()"
   ]
  },
  {
   "cell_type": "code",
   "execution_count": 3,
   "id": "e63b6ffe",
   "metadata": {
    "ExecuteTime": {
     "end_time": "2022-12-15T10:49:47.904322Z",
     "start_time": "2022-12-15T10:49:47.900425Z"
    }
   },
   "outputs": [],
   "source": [
    "with open('input.txt', 'r') as f:\n",
    "    input_ = f.read().strip()"
   ]
  },
  {
   "cell_type": "markdown",
   "id": "533d4b56",
   "metadata": {},
   "source": [
    "# Part 1"
   ]
  },
  {
   "cell_type": "code",
   "execution_count": 4,
   "id": "1d4d70b6",
   "metadata": {
    "ExecuteTime": {
     "end_time": "2022-12-15T10:49:48.454767Z",
     "start_time": "2022-12-15T10:49:48.445396Z"
    }
   },
   "outputs": [],
   "source": [
    "def parse_input(input_):\n",
    "    lines = input_.splitlines()\n",
    "    sensors = []\n",
    "    beacons = []\n",
    "    for line in lines:\n",
    "        sensor, beacon = line.replace('Sensor at ', '').replace(' closest beacon is at ', '').split(':')\n",
    "        sensor_pos = tuple(int(x) for x in sensor.replace('x=', '').replace('y=', '').split(','))\n",
    "        beacon_pos = tuple(int(x) for x in beacon.replace('x=', '').replace('y=', '').split(','))\n",
    "        sensors.append(sensor_pos)\n",
    "        beacons.append(beacon_pos)\n",
    "    return sensors, beacons"
   ]
  },
  {
   "cell_type": "code",
   "execution_count": 5,
   "id": "0848f6e6",
   "metadata": {
    "ExecuteTime": {
     "end_time": "2022-12-15T10:49:49.032671Z",
     "start_time": "2022-12-15T10:49:49.029016Z"
    }
   },
   "outputs": [],
   "source": [
    "def distance(s, b):\n",
    "    return abs(s[0] - b[0]) + abs(s[1] - b[1])\n",
    "\n",
    "def distances(sensors, beacons):\n",
    "    return [distance(s, b) for s, b in zip(sensors, beacons)]"
   ]
  },
  {
   "cell_type": "code",
   "execution_count": 77,
   "id": "604f03f0",
   "metadata": {
    "ExecuteTime": {
     "end_time": "2022-12-15T11:04:21.749835Z",
     "start_time": "2022-12-15T11:04:21.743538Z"
    }
   },
   "outputs": [],
   "source": [
    "sensors, beacons = parse_input(test)\n",
    "dist = distances(sensors, beacons)\n",
    "set_beacons = set(x for x in beacons)\n",
    "set_sensors = set(x for x in sensors)\n",
    "\n",
    "x0 = min([s[0] - d for s, d in zip(sensors, dist)])\n",
    "x1 = max([s[0] + d for s, d in zip(sensors, dist)])\n",
    "\n",
    "y = 10\n",
    "l = np.zeros((x1 - x0 + 1,), dtype=int)\n",
    "xy = np.array([(x, y) for x in range(x0, x1 + 1)])\n",
    "for s, d in zip(sensors, dist):\n",
    "    l[np.sum(np.abs(s - xy), axis=1) <= d] = 1\n",
    "\n",
    "for b in set_beacons:\n",
    "    if b[1] == y:\n",
    "        l[b[0] - x0] = 0\n",
    "\n",
    "for b in set_sensors:\n",
    "    if b[1] == y:\n",
    "        l[b[0] - x0] = 0"
   ]
  },
  {
   "cell_type": "code",
   "execution_count": 78,
   "id": "16a72990",
   "metadata": {
    "ExecuteTime": {
     "end_time": "2022-12-15T11:04:48.637702Z",
     "start_time": "2022-12-15T11:04:39.028314Z"
    }
   },
   "outputs": [
    {
     "name": "stdout",
     "output_type": "stream",
     "text": [
      "-1634596 5350985\n"
     ]
    }
   ],
   "source": [
    "sensors, beacons = parse_input(input_)\n",
    "dist = distances(sensors, beacons)\n",
    "set_beacons = set(x for x in beacons)\n",
    "set_sensors = set(x for x in sensors)\n",
    "y = 2_000_000\n",
    "\n",
    "\n",
    "x0 = min([s[0] - d for s, d in zip(sensors, dist)]) - 5\n",
    "x1 = max([s[0] + d for s, d in zip(sensors, dist)]) + 5\n",
    "print(x0, x1)\n",
    "\n",
    "l = np.zeros((x1 - x0 + 1,), dtype=int)\n",
    "xy = np.array([(x, y) for x in range(x0, x1 + 1)])\n",
    "for s, d in zip(sensors, dist):\n",
    "    l[np.sum(np.abs(s - xy), axis=1) <= d] = 1\n",
    "\n",
    "for b in set_beacons:\n",
    "    if b[1] == y:\n",
    "        l[b[0] - x0] = 0\n",
    "\n",
    "for b in set_sensors:\n",
    "    if b[1] == y:\n",
    "        l[b[0] - x0] = 0"
   ]
  },
  {
   "cell_type": "code",
   "execution_count": 79,
   "id": "09c27ae5",
   "metadata": {
    "ExecuteTime": {
     "end_time": "2022-12-15T11:04:48.651049Z",
     "start_time": "2022-12-15T11:04:48.640384Z"
    }
   },
   "outputs": [
    {
     "data": {
      "text/plain": [
       "6078701"
      ]
     },
     "execution_count": 79,
     "metadata": {},
     "output_type": "execute_result"
    }
   ],
   "source": [
    "l.sum()"
   ]
  },
  {
   "cell_type": "markdown",
   "id": "984acafe",
   "metadata": {},
   "source": [
    "# Part 2"
   ]
  },
  {
   "cell_type": "code",
   "execution_count": 80,
   "id": "4a0ceb04",
   "metadata": {
    "ExecuteTime": {
     "end_time": "2022-12-15T11:04:48.658237Z",
     "start_time": "2022-12-15T11:04:48.652999Z"
    }
   },
   "outputs": [],
   "source": [
    "def get_borders(center, d):\n",
    "    borders = []\n",
    "    for i in range(d):\n",
    "        p = (center[0] + d - i, center[1] + i)\n",
    "        borders.append(p)\n",
    "    for i in range(d):\n",
    "        p = (center[0] - i, center[1] + d - i)\n",
    "        borders.append(p)\n",
    "    for i in range(d):\n",
    "        p = (center[0] - d + i, center[1] - i)\n",
    "        borders.append(p)\n",
    "    for i in range(d):\n",
    "        p = (center[0] + i, center[1] - d + i)\n",
    "        borders.append(p)\n",
    "    return np.array(borders)"
   ]
  },
  {
   "cell_type": "code",
   "execution_count": 81,
   "id": "f77acb9a",
   "metadata": {
    "ExecuteTime": {
     "end_time": "2022-12-15T11:04:52.314480Z",
     "start_time": "2022-12-15T11:04:52.310687Z"
    }
   },
   "outputs": [],
   "source": [
    "sensors, beacons = parse_input(test)\n",
    "dist = distances(sensors, beacons)\n",
    "sensors = np.array(sensors)\n",
    "beacons = np.array(beacons)\n",
    "dist = np.array(dist)\n",
    "\n",
    "x_max = 20\n",
    "y_max = 20\n",
    "x0, x1 = 0, x_max"
   ]
  },
  {
   "cell_type": "code",
   "execution_count": 83,
   "id": "63fdbe83",
   "metadata": {
    "ExecuteTime": {
     "end_time": "2022-12-15T11:06:11.484727Z",
     "start_time": "2022-12-15T11:06:11.145520Z"
    }
   },
   "outputs": [
    {
     "data": {
      "text/plain": [
       "<matplotlib.collections.PathCollection at 0x7fea1bab44c0>"
      ]
     },
     "execution_count": 83,
     "metadata": {},
     "output_type": "execute_result"
    },
    {
     "data": {
      "image/png": "[encoded data removed]",
      "text/plain": [
       "<Figure size 640x480 with 1 Axes>"
      ]
     },
     "metadata": {},
     "output_type": "display_data"
    }
   ],
   "source": [
    "candidates = []\n",
    "for s, d in zip(sensors, dist):\n",
    "    borders = get_borders(s, d+1)\n",
    "    candidates.append(borders[(borders[:,0] >= 0) &(borders[:,0] <= x_max) & (borders[:,1] >= 0) &(borders[:,1] <= y_max)])\n",
    "    plt.scatter(borders[:,0], borders[:, 1], alpha=0.4)\n",
    "   \n",
    "plt.scatter(14, 11, color='k', marker='x')"
   ]
  },
  {
   "cell_type": "code",
   "execution_count": 84,
   "id": "0a065272",
   "metadata": {
    "ExecuteTime": {
     "end_time": "2022-12-15T11:06:55.817928Z",
     "start_time": "2022-12-15T11:06:55.801516Z"
    }
   },
   "outputs": [
    {
     "data": {
      "text/plain": [
       "array([14, 11])"
      ]
     },
     "execution_count": 84,
     "metadata": {},
     "output_type": "execute_result"
    }
   ],
   "source": [
    "for c in candidates:\n",
    "    l = np.zeros((c.shape[0],), dtype=int)\n",
    "    for s, d in zip(sensors, dist):\n",
    "        s_to_c = np.abs(s - c).sum(axis=1)\n",
    "        l[s_to_c <= d] = 1\n",
    "    if sum(l) < c.shape[0]:\n",
    "        # found!\n",
    "        idx = np.where(l == 0)[0][0]\n",
    "        pos = c[idx]\n",
    "        break\n",
    "pos"
   ]
  },
  {
   "cell_type": "code",
   "execution_count": 85,
   "id": "6f59bee9",
   "metadata": {
    "ExecuteTime": {
     "end_time": "2022-12-15T11:08:11.694782Z",
     "start_time": "2022-12-15T11:07:01.960990Z"
    }
   },
   "outputs": [],
   "source": [
    "sensors, beacons = parse_input(input_)\n",
    "dist = distances(sensors, beacons)\n",
    "sensors = np.array(sensors)\n",
    "beacons = np.array(beacons)\n",
    "dist = np.array(dist)\n",
    "\n",
    "x_max = 4_000_000\n",
    "y_max = 4_000_000\n",
    "candidates = []\n",
    "for s, d in zip(sensors, dist):\n",
    "    borders = get_borders(s, d+1)\n",
    "    candidates.append(borders[(borders[:,0] >= 0) &(borders[:,0] <= x_max) & (borders[:,1] >= 0) &(borders[:,1] <= y_max)])\n"
   ]
  },
  {
   "cell_type": "code",
   "execution_count": 86,
   "id": "16671a7d",
   "metadata": {
    "ExecuteTime": {
     "end_time": "2022-12-15T11:08:22.379948Z",
     "start_time": "2022-12-15T11:08:11.697750Z"
    }
   },
   "outputs": [
    {
     "data": {
      "text/plain": [
       "array([3141837, 3400528])"
      ]
     },
     "execution_count": 86,
     "metadata": {},
     "output_type": "execute_result"
    }
   ],
   "source": [
    "for c in candidates:\n",
    "    l = np.zeros((c.shape[0],), dtype=int)\n",
    "    for s, d in zip(sensors, dist):\n",
    "        s_to_c = np.abs(s - c).sum(axis=1)\n",
    "        l[s_to_c <= d] = 1\n",
    "    if sum(l) < c.shape[0]:\n",
    "        # found!\n",
    "        idx = np.where(l == 0)[0][0]\n",
    "        pos = c[idx]\n",
    "        break\n",
    "pos"
   ]
  },
  {
   "cell_type": "code",
   "execution_count": 87,
   "id": "d69c96bc",
   "metadata": {
    "ExecuteTime": {
     "end_time": "2022-12-15T11:10:31.111624Z",
     "start_time": "2022-12-15T11:10:31.107166Z"
    }
   },
   "outputs": [
    {
     "data": {
      "text/plain": [
       "12567351400528"
      ]
     },
     "execution_count": 87,
     "metadata": {},
     "output_type": "execute_result"
    }
   ],
   "source": [
    "pos[0] * 4000000 + pos[1]"
   ]
  },
  {
   "cell_type": "code",
   "execution_count": null,
   "id": "121ea042",
   "metadata": {},
   "outputs": [],
   "source": []
  }
 ],
 "metadata": {
  "hide_input": false,
  "kernelspec": {
   "display_name": "Python 3 (ipykernel)",
   "language": "python",
   "name": "python3"
  },
  "language_info": {
   "codemirror_mode": {
    "name": "ipython",
    "version": 3
   },
   "file_extension": ".py",
   "mimetype": "text/x-python",
   "name": "python",
   "nbconvert_exporter": "python",
   "pygments_lexer": "ipython3",
   "version": "3.10.8"
  },
  "toc": {
   "nav_menu": {
    "height": "12px",
    "width": "252px"
   },
   "navigate_menu": true,
   "number_sections": true,
   "sideBar": true,
   "threshold": 4,
   "toc_cell": false,
   "toc_section_display": "block",
   "toc_window_display": false
  }
 },
 "nbformat": 4,
 "nbformat_minor": 5
}
