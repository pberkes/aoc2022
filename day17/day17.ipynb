{
 "cells": [
  {
   "cell_type": "code",
   "execution_count": 1,
   "id": "07ca7fcd",
   "metadata": {
    "ExecuteTime": {
     "end_time": "2022-12-18T20:19:52.374184Z",
     "start_time": "2022-12-18T20:19:51.382368Z"
    }
   },
   "outputs": [],
   "source": [
    "import matplotlib.animation as animation\n",
    "import matplotlib.pyplot as plt\n",
    "import numpy as np"
   ]
  },
  {
   "cell_type": "code",
   "execution_count": 2,
   "id": "9bc8c0a2",
   "metadata": {
    "ExecuteTime": {
     "end_time": "2022-12-18T20:19:52.380221Z",
     "start_time": "2022-12-18T20:19:52.377049Z"
    }
   },
   "outputs": [],
   "source": [
    "pieces_raw = \"\"\"\n",
    "####\n",
    "\n",
    ".#.\n",
    "###\n",
    ".#.\n",
    "\n",
    "..#\n",
    "..#\n",
    "###\n",
    "\n",
    "#\n",
    "#\n",
    "#\n",
    "#\n",
    "\n",
    "##\n",
    "##\n",
    "\"\"\".strip().split('\\n\\n')"
   ]
  },
  {
   "cell_type": "code",
   "execution_count": 3,
   "id": "fb0e88cb",
   "metadata": {
    "ExecuteTime": {
     "end_time": "2022-12-18T20:19:52.386259Z",
     "start_time": "2022-12-18T20:19:52.382419Z"
    }
   },
   "outputs": [],
   "source": [
    "pieces = []\n",
    "for piece in pieces_raw:\n",
    "    piece = np.array([[int(x) for x in list(p)] for p in piece.replace('.', '0').replace('#', '1').split('\\n')])\n",
    "    pieces.append(piece[::-1,:])\n"
   ]
  },
  {
   "cell_type": "code",
   "execution_count": 4,
   "id": "271c1b32",
   "metadata": {
    "ExecuteTime": {
     "end_time": "2022-12-18T20:19:52.393055Z",
     "start_time": "2022-12-18T20:19:52.390005Z"
    }
   },
   "outputs": [],
   "source": [
    "test = \"\"\"\n",
    ">>><<><>><<<>><>>><<<>>><<<><<<>><>><<>>\n",
    "\"\"\".strip()"
   ]
  },
  {
   "cell_type": "code",
   "execution_count": 5,
   "id": "00116be3",
   "metadata": {
    "ExecuteTime": {
     "end_time": "2022-12-18T20:19:52.977504Z",
     "start_time": "2022-12-18T20:19:52.972896Z"
    }
   },
   "outputs": [],
   "source": [
    "with open('input.txt', 'r') as f:\n",
    "    input_ = f.read().strip()"
   ]
  },
  {
   "cell_type": "markdown",
   "id": "48faf417",
   "metadata": {},
   "source": [
    "# Part 1"
   ]
  },
  {
   "cell_type": "code",
   "execution_count": 6,
   "id": "a8bbf5b0",
   "metadata": {
    "ExecuteTime": {
     "end_time": "2022-12-18T20:19:54.127826Z",
     "start_time": "2022-12-18T20:19:54.124544Z"
    }
   },
   "outputs": [],
   "source": [
    "h = 30\n",
    "empty_field = np.zeros((h, 9))\n",
    "empty_field[:, 0] = 1\n",
    "empty_field[:, -1] = 1\n",
    "empty_field[0, :] = 1"
   ]
  },
  {
   "cell_type": "code",
   "execution_count": 9,
   "id": "9e7d4eac",
   "metadata": {
    "ExecuteTime": {
     "end_time": "2022-12-18T20:19:58.248191Z",
     "start_time": "2022-12-18T20:19:58.244066Z"
    }
   },
   "outputs": [
    {
     "data": {
      "text/plain": [
       "'>>><<><>><<<>><>>><<<>>><<<><<<>><>><<>>'"
      ]
     },
     "execution_count": 9,
     "metadata": {},
     "output_type": "execute_result"
    }
   ],
   "source": [
    "test"
   ]
  },
  {
   "cell_type": "code",
   "execution_count": 18,
   "id": "410b7435",
   "metadata": {
    "ExecuteTime": {
     "end_time": "2022-12-18T20:23:25.247752Z",
     "start_time": "2022-12-18T20:23:08.958913Z"
    }
   },
   "outputs": [
    {
     "data": {
      "image/png": "[encoded data removed]",
      "text/plain": [
       "<Figure size 640x480 with 1 Axes>"
      ]
     },
     "metadata": {},
     "output_type": "display_data"
    }
   ],
   "source": [
    "jets = input_\n",
    "\n",
    "h = 4000\n",
    "empty_field = np.zeros((h, 9))\n",
    "empty_field[:, 0] = 1\n",
    "empty_field[:, -1] = 1\n",
    "empty_field[0, :] = 1\n",
    "field = empty_field.copy()\n",
    "f = field.copy()\n",
    "\n",
    "low = 1\n",
    "piece_idx = -1\n",
    "jets_idx = -1\n",
    "tot_flow = 0\n",
    "images = []\n",
    "fig, ax = plt.subplots()\n",
    "for _ in range(2022):\n",
    "    piece_idx = (piece_idx + 1) % len(pieces)\n",
    "    piece = pieces[piece_idx]\n",
    "    piece_sh = piece.shape\n",
    "    piece_pos = [low + 3, 3]\n",
    "\n",
    "    f = field.copy()\n",
    "    f[piece_pos[0]:piece_pos[0]+piece_sh[0], piece_pos[1]:piece_pos[1]+piece_sh[1]] = piece * 2\n",
    "\n",
    "    while True:\n",
    "        t_pos = list(piece_pos)\n",
    "        jets_idx = (jets_idx + 1) % len(jets)\n",
    "\n",
    "        # move with jets\n",
    "        f = field.copy()\n",
    "\n",
    "        if jets[jets_idx] == '>':\n",
    "            t_pos[1] += 1\n",
    "        elif jets[jets_idx]:\n",
    "            t_pos[1] -= 1\n",
    "\n",
    "        f[t_pos[0]:t_pos[0]+piece_sh[0], t_pos[1]:t_pos[1]+piece_sh[1]] += piece * 2\n",
    "        if (f > 2).any():\n",
    "            pass\n",
    "        else:\n",
    "            piece_pos = t_pos\n",
    "\n",
    "        # try moving down\n",
    "        t_pos = list(piece_pos)\n",
    "        f = field.copy()\n",
    "        t_pos[0] -= 1\n",
    "        \n",
    "        f[t_pos[0]:t_pos[0]+piece_sh[0], t_pos[1]:t_pos[1]+piece_sh[1]] += piece * 2\n",
    "        if (f > 2).any():\n",
    "            break\n",
    "        else:\n",
    "            piece_pos = t_pos\n",
    "\n",
    "\n",
    "    low = max(low, piece_pos[0] + piece_sh[0])\n",
    "    field[piece_pos[0]:piece_pos[0]+piece_sh[0], piece_pos[1]:piece_pos[1]+piece_sh[1]] += piece\n",
    "    #print(_)\n",
    "    im = plt.imshow(field[max(0, low-40):max(100, low+10)], origin='lower', cmap='magma', animated=True, aspect=1)\n",
    "    plt.xticks([], [])\n",
    "    plt.yticks([], [])\n",
    "    images.append([im])\n"
   ]
  },
  {
   "cell_type": "code",
   "execution_count": 19,
   "id": "b4f3b0e4",
   "metadata": {
    "ExecuteTime": {
     "end_time": "2022-12-18T20:24:28.231663Z",
     "start_time": "2022-12-18T20:23:29.879772Z"
    }
   },
   "outputs": [
    {
     "name": "stderr",
     "output_type": "stream",
     "text": [
      "MovieWriter ffmpeg unavailable; using Pillow instead.\n"
     ]
    }
   ],
   "source": [
    "ani = animation.ArtistAnimation(fig, images, interval=10, blit=True,\n",
    "                                repeat_delay=1000)\n",
    "ani.save('tetris.gif')"
   ]
  },
  {
   "cell_type": "code",
   "execution_count": 15,
   "id": "c19cecac",
   "metadata": {
    "ExecuteTime": {
     "end_time": "2022-12-18T20:21:31.956023Z",
     "start_time": "2022-12-18T20:21:31.951668Z"
    }
   },
   "outputs": [
    {
     "data": {
      "text/plain": [
       "3171"
      ]
     },
     "execution_count": 15,
     "metadata": {},
     "output_type": "execute_result"
    }
   ],
   "source": [
    "tot_flow + low - 1"
   ]
  },
  {
   "cell_type": "markdown",
   "id": "4d49db02",
   "metadata": {},
   "source": [
    "# Part 2"
   ]
  },
  {
   "cell_type": "code",
   "execution_count": 166,
   "id": "dbc4eb9f",
   "metadata": {
    "ExecuteTime": {
     "end_time": "2022-12-18T20:05:12.846402Z",
     "start_time": "2022-12-18T21:05:11.320208+01:00"
    }
   },
   "outputs": [
    {
     "name": "stdout",
     "output_type": "stream",
     "text": [
      "3970 3993\n",
      "GOT IT 4071 2583 (1342, 863)\n"
     ]
    }
   ],
   "source": [
    "jets = input_\n",
    "\n",
    "h = 4000\n",
    "empty_field = np.zeros((h, 9))\n",
    "empty_field[:, 0] = 1\n",
    "empty_field[:, -1] = 1\n",
    "empty_field[0, :] = 1\n",
    "field = empty_field.copy()\n",
    "f = field.copy()\n",
    "\n",
    "low = 1\n",
    "piece_idx = -1\n",
    "jets_idx = -1\n",
    "seen = {}\n",
    "lows = {}\n",
    "tot_low = 0\n",
    "for n in range(100000):\n",
    "    if low >= h - 8:\n",
    "        tot_low += h - 30\n",
    "        print(tot_low, low)\n",
    "        new_field = np.zeros((h, 9))\n",
    "        new_field[:, 0] = 1\n",
    "        new_field[:, -1] = 1\n",
    "        new_field[:30, :] = field[-30:, :]\n",
    "        field = new_field\n",
    "        low = low - (h - 30)\n",
    "    piece_idx = (piece_idx + 1) % len(pieces)\n",
    "    piece = pieces[piece_idx]\n",
    "    piece_sh = piece.shape\n",
    "    piece_pos = [low + 3, 3]\n",
    "\n",
    "    f = field.copy()\n",
    "    f[piece_pos[0]:piece_pos[0]+piece_sh[0], piece_pos[1]:piece_pos[1]+piece_sh[1]] = piece * 2\n",
    "\n",
    "    while True:\n",
    "        t_pos = list(piece_pos)\n",
    "        jets_idx = (jets_idx + 1) % len(jets)\n",
    "\n",
    "        # move with jets\n",
    "        f = field.copy()\n",
    "\n",
    "        if jets[jets_idx] == '>':\n",
    "            t_pos[1] += 1\n",
    "        elif jets[jets_idx]:\n",
    "            t_pos[1] -= 1\n",
    "        #print(t_pos)\n",
    "        f[t_pos[0]:t_pos[0]+piece_sh[0], t_pos[1]:t_pos[1]+piece_sh[1]] += piece * 2\n",
    "        if (f > 2).any():\n",
    "            pass\n",
    "        else:\n",
    "            piece_pos = t_pos\n",
    "\n",
    "        # try moving down\n",
    "        t_pos = list(piece_pos)\n",
    "        f = field.copy()\n",
    "        t_pos[0] -= 1\n",
    "        \n",
    "        f[t_pos[0]:t_pos[0]+piece_sh[0], t_pos[1]:t_pos[1]+piece_sh[1]] += piece * 2\n",
    "        if (f > 2).any():\n",
    "            #print('BREAK')\n",
    "            break\n",
    "        else:\n",
    "            piece_pos = t_pos\n",
    "\n",
    "\n",
    "    low = max(low, piece_pos[0] + piece_sh[0])\n",
    "    field[piece_pos[0]:piece_pos[0]+piece_sh[0], piece_pos[1]:piece_pos[1]+piece_sh[1]] += piece\n",
    "\n",
    "    signature = (tuple(field[low-20:low].ravel()), piece_idx, jets_idx)\n",
    "    if signature in seen:\n",
    "        print('GOT IT', tot_low + low, n, seen[signature])\n",
    "        break\n",
    "    else:\n",
    "        seen[signature] = (tot_low + low, n)\n",
    "    lows[n] = low"
   ]
  },
  {
   "cell_type": "markdown",
   "id": "133a6973",
   "metadata": {},
   "source": [
    "Test"
   ]
  },
  {
   "cell_type": "code",
   "execution_count": 159,
   "id": "ea665da1",
   "metadata": {
    "ExecuteTime": {
     "end_time": "2022-12-18T20:04:35.722514Z",
     "start_time": "2022-12-18T21:04:35.719791+01:00"
    },
    "collapsed": true
   },
   "outputs": [],
   "source": [
    "delta_n = 61 - 26\n",
    "dist = 101 - 48"
   ]
  },
  {
   "cell_type": "code",
   "execution_count": 160,
   "id": "ace26cc5",
   "metadata": {
    "ExecuteTime": {
     "end_time": "2022-12-18T20:04:36.581376Z",
     "start_time": "2022-12-18T21:04:36.576974+01:00"
    }
   },
   "outputs": [
    {
     "data": {
      "text/plain": [
       "(28571428570, 24)"
      ]
     },
     "execution_count": 160,
     "metadata": {},
     "output_type": "execute_result"
    }
   ],
   "source": [
    "target = 1000000000000 - 26\n",
    "target // delta_n, target % delta_n"
   ]
  },
  {
   "cell_type": "code",
   "execution_count": 162,
   "id": "e74c2a43",
   "metadata": {
    "ExecuteTime": {
     "end_time": "2022-12-18T20:04:44.660168Z",
     "start_time": "2022-12-18T21:04:44.656116+01:00"
    }
   },
   "outputs": [
    {
     "data": {
      "text/plain": [
       "1514285714288"
      ]
     },
     "execution_count": 162,
     "metadata": {},
     "output_type": "execute_result"
    }
   ],
   "source": [
    "lows[26] + target // delta_n * dist + lows[26 + target % delta_n] - lows[26] - 2"
   ]
  },
  {
   "cell_type": "markdown",
   "id": "2c32eeab",
   "metadata": {},
   "source": [
    "Input"
   ]
  },
  {
   "cell_type": "code",
   "execution_count": 167,
   "id": "b8b83248",
   "metadata": {
    "ExecuteTime": {
     "end_time": "2022-12-18T20:05:22.850124Z",
     "start_time": "2022-12-18T21:05:22.847429+01:00"
    }
   },
   "outputs": [],
   "source": [
    "delta_n = 2583 - 863\n",
    "dist = 4071 - 1342"
   ]
  },
  {
   "cell_type": "code",
   "execution_count": 168,
   "id": "34c1565f",
   "metadata": {
    "ExecuteTime": {
     "end_time": "2022-12-18T20:05:23.029851Z",
     "start_time": "2022-12-18T21:05:23.026213+01:00"
    }
   },
   "outputs": [
    {
     "data": {
      "text/plain": [
       "(581395348, 577)"
      ]
     },
     "execution_count": 168,
     "metadata": {},
     "output_type": "execute_result"
    }
   ],
   "source": [
    "target = 1000000000000 - 863 \n",
    "target // delta_n, target % delta_n"
   ]
  },
  {
   "cell_type": "code",
   "execution_count": 169,
   "id": "305af6b6",
   "metadata": {
    "ExecuteTime": {
     "end_time": "2022-12-18T20:05:23.215332Z",
     "start_time": "2022-12-18T21:05:23.211556+01:00"
    }
   },
   "outputs": [
    {
     "data": {
      "text/plain": [
       "1586627906921"
      ]
     },
     "execution_count": 169,
     "metadata": {},
     "output_type": "execute_result"
    }
   ],
   "source": [
    "lows[863] + target // delta_n * dist + lows[863 + target % delta_n] - lows[863] -2"
   ]
  },
  {
   "cell_type": "code",
   "execution_count": null,
   "id": "01ec99a8",
   "metadata": {
    "collapsed": true
   },
   "outputs": [],
   "source": []
  },
  {
   "cell_type": "code",
   "execution_count": null,
   "id": "2974c577",
   "metadata": {
    "collapsed": true
   },
   "outputs": [],
   "source": []
  },
  {
   "cell_type": "code",
   "execution_count": null,
   "id": "192871d5",
   "metadata": {
    "collapsed": true
   },
   "outputs": [],
   "source": []
  }
 ],
 "metadata": {
  "hide_input": false,
  "kernelspec": {
   "display_name": "Python 3 (ipykernel)",
   "language": "python",
   "name": "python3"
  },
  "language_info": {
   "codemirror_mode": {
    "name": "ipython",
    "version": 3
   },
   "file_extension": ".py",
   "mimetype": "text/x-python",
   "name": "python",
   "nbconvert_exporter": "python",
   "pygments_lexer": "ipython3",
   "version": "3.10.8"
  },
  "toc": {
   "nav_menu": {
    "height": "12px",
    "width": "252px"
   },
   "navigate_menu": true,
   "number_sections": true,
   "sideBar": true,
   "threshold": 4,
   "toc_cell": false,
   "toc_section_display": "block",
   "toc_window_display": false
  }
 },
 "nbformat": 4,
 "nbformat_minor": 5
}
