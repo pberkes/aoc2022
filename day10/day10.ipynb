{
 "cells": [
  {
   "cell_type": "code",
   "execution_count": 298,
   "id": "6a0bf45e",
   "metadata": {
    "ExecuteTime": {
     "end_time": "2022-12-10T06:19:11.949173Z",
     "start_time": "2022-12-10T06:19:11.370908Z"
    }
   },
   "outputs": [],
   "source": [
    "import matplotlib.pyplot as plt\n",
    "import numpy as np"
   ]
  },
  {
   "cell_type": "code",
   "execution_count": 17,
   "id": "5b1cb3ac",
   "metadata": {
    "ExecuteTime": {
     "end_time": "2022-12-10T05:08:48.134838Z",
     "start_time": "2022-12-10T05:08:48.131354Z"
    }
   },
   "outputs": [],
   "source": [
    "test = \"\"\"\n",
    "noop\n",
    "addx 3\n",
    "addx -5\n",
    "\"\"\".strip()\n",
    "\n",
    "test2 = \"\"\"\n",
    "addx 15\n",
    "addx -11\n",
    "addx 6\n",
    "addx -3\n",
    "addx 5\n",
    "addx -1\n",
    "addx -8\n",
    "addx 13\n",
    "addx 4\n",
    "noop\n",
    "addx -1\n",
    "addx 5\n",
    "addx -1\n",
    "addx 5\n",
    "addx -1\n",
    "addx 5\n",
    "addx -1\n",
    "addx 5\n",
    "addx -1\n",
    "addx -35\n",
    "addx 1\n",
    "addx 24\n",
    "addx -19\n",
    "addx 1\n",
    "addx 16\n",
    "addx -11\n",
    "noop\n",
    "noop\n",
    "addx 21\n",
    "addx -15\n",
    "noop\n",
    "noop\n",
    "addx -3\n",
    "addx 9\n",
    "addx 1\n",
    "addx -3\n",
    "addx 8\n",
    "addx 1\n",
    "addx 5\n",
    "noop\n",
    "noop\n",
    "noop\n",
    "noop\n",
    "noop\n",
    "addx -36\n",
    "noop\n",
    "addx 1\n",
    "addx 7\n",
    "noop\n",
    "noop\n",
    "noop\n",
    "addx 2\n",
    "addx 6\n",
    "noop\n",
    "noop\n",
    "noop\n",
    "noop\n",
    "noop\n",
    "addx 1\n",
    "noop\n",
    "noop\n",
    "addx 7\n",
    "addx 1\n",
    "noop\n",
    "addx -13\n",
    "addx 13\n",
    "addx 7\n",
    "noop\n",
    "addx 1\n",
    "addx -33\n",
    "noop\n",
    "noop\n",
    "noop\n",
    "addx 2\n",
    "noop\n",
    "noop\n",
    "noop\n",
    "addx 8\n",
    "noop\n",
    "addx -1\n",
    "addx 2\n",
    "addx 1\n",
    "noop\n",
    "addx 17\n",
    "addx -9\n",
    "addx 1\n",
    "addx 1\n",
    "addx -3\n",
    "addx 11\n",
    "noop\n",
    "noop\n",
    "addx 1\n",
    "noop\n",
    "addx 1\n",
    "noop\n",
    "noop\n",
    "addx -13\n",
    "addx -19\n",
    "addx 1\n",
    "addx 3\n",
    "addx 26\n",
    "addx -30\n",
    "addx 12\n",
    "addx -1\n",
    "addx 3\n",
    "addx 1\n",
    "noop\n",
    "noop\n",
    "noop\n",
    "addx -9\n",
    "addx 18\n",
    "addx 1\n",
    "addx 2\n",
    "noop\n",
    "noop\n",
    "addx 9\n",
    "noop\n",
    "noop\n",
    "noop\n",
    "addx -1\n",
    "addx 2\n",
    "addx -37\n",
    "addx 1\n",
    "addx 3\n",
    "noop\n",
    "addx 15\n",
    "addx -21\n",
    "addx 22\n",
    "addx -6\n",
    "addx 1\n",
    "noop\n",
    "addx 2\n",
    "addx 1\n",
    "noop\n",
    "addx -10\n",
    "noop\n",
    "noop\n",
    "addx 20\n",
    "addx 1\n",
    "addx 2\n",
    "addx 2\n",
    "addx -6\n",
    "addx -11\n",
    "noop\n",
    "noop\n",
    "noop\n",
    "\"\"\".strip()"
   ]
  },
  {
   "cell_type": "code",
   "execution_count": 43,
   "id": "e63b6ffe",
   "metadata": {
    "ExecuteTime": {
     "end_time": "2022-12-10T05:16:34.030318Z",
     "start_time": "2022-12-10T05:16:34.026086Z"
    }
   },
   "outputs": [],
   "source": [
    "with open('input.txt', 'r') as f:\n",
    "    input_ = f.read().strip()"
   ]
  },
  {
   "cell_type": "markdown",
   "id": "533d4b56",
   "metadata": {},
   "source": [
    "# Part 1"
   ]
  },
  {
   "cell_type": "code",
   "execution_count": 202,
   "id": "1854f7b2",
   "metadata": {
    "ExecuteTime": {
     "end_time": "2022-12-10T05:49:35.255186Z",
     "start_time": "2022-12-10T05:49:35.250271Z"
    }
   },
   "outputs": [],
   "source": [
    "def sync(commands):\n",
    "    synced = []\n",
    "    for idx, cmd in enumerate(commands):\n",
    "        if cmd[0] == 'noop':\n",
    "            synced.append(('noop', 0))\n",
    "        if cmd[0] == 'addx':\n",
    "            synced.append(('noop', 0))\n",
    "            synced.append(cmd)\n",
    "    return synced\n",
    "\n",
    "def execute(synced):\n",
    "    X_hist = [[] for _ in range(len(synced))]\n",
    "    X = 1\n",
    "    for idx, cmd in enumerate(synced):\n",
    "        X += int(cmd[1])\n",
    "        # idx + 2 : cycles start counting at 1, and this is at the end of the cycle\n",
    "        X_hist[idx] = (idx + 2, X)\n",
    "    return X_hist"
   ]
  },
  {
   "cell_type": "code",
   "execution_count": 243,
   "id": "712f7c76",
   "metadata": {
    "ExecuteTime": {
     "end_time": "2022-12-10T06:05:25.833326Z",
     "start_time": "2022-12-10T06:05:25.828121Z"
    }
   },
   "outputs": [
    {
     "data": {
      "text/plain": [
       "[(2, 1), (3, 1), (4, 4), (5, 4), (6, -1)]"
      ]
     },
     "execution_count": 243,
     "metadata": {},
     "output_type": "execute_result"
    }
   ],
   "source": [
    "commands = [line.split() for line in test.splitlines()]\n",
    "signal = execute(sync(commands))\n",
    "signal"
   ]
  },
  {
   "cell_type": "code",
   "execution_count": 254,
   "id": "2681f02b",
   "metadata": {
    "ExecuteTime": {
     "end_time": "2022-12-10T06:07:26.171315Z",
     "start_time": "2022-12-10T06:07:26.165803Z"
    }
   },
   "outputs": [
    {
     "data": {
      "text/plain": [
       "13140"
      ]
     },
     "execution_count": 254,
     "metadata": {},
     "output_type": "execute_result"
    }
   ],
   "source": [
    "commands = [line.split() for line in test2.splitlines()]\n",
    "signal = np.array(execute(sync(commands)))\n",
    "s = signal[18::40]\n",
    "(s[:, 0] * s[:,1]).sum()"
   ]
  },
  {
   "cell_type": "code",
   "execution_count": 255,
   "id": "c1e0fd9b",
   "metadata": {
    "ExecuteTime": {
     "end_time": "2022-12-10T06:07:30.403354Z",
     "start_time": "2022-12-10T06:07:30.397369Z"
    }
   },
   "outputs": [
    {
     "data": {
      "text/plain": [
       "14820"
      ]
     },
     "execution_count": 255,
     "metadata": {},
     "output_type": "execute_result"
    }
   ],
   "source": [
    "commands = [line.split() for line in input_.splitlines()]\n",
    "signal = np.array(execute(sync(commands)))\n",
    "s = signal[18::40]\n",
    "(s[:, 0] * s[:,1]).sum()"
   ]
  },
  {
   "cell_type": "markdown",
   "id": "984acafe",
   "metadata": {},
   "source": [
    "# Part 2"
   ]
  },
  {
   "cell_type": "code",
   "execution_count": 296,
   "id": "333c5cb9",
   "metadata": {
    "ExecuteTime": {
     "end_time": "2022-12-10T06:18:50.387242Z",
     "start_time": "2022-12-10T06:18:50.383298Z"
    }
   },
   "outputs": [],
   "source": [
    "def crt_display(signal, width, height=6):\n",
    "    crt = np.zeros((height, width), dtype=int)\n",
    "    for idx, center in signal:\n",
    "        line = (idx-1) // 40\n",
    "        pos = (idx-1) % 40\n",
    "        if pos in [center-1, center, center+1]:\n",
    "            crt[line, pos] = 1\n",
    "    return crt"
   ]
  },
  {
   "cell_type": "code",
   "execution_count": 299,
   "id": "d6d7e2f5",
   "metadata": {
    "ExecuteTime": {
     "end_time": "2022-12-10T06:19:18.431529Z",
     "start_time": "2022-12-10T06:19:18.258428Z"
    }
   },
   "outputs": [
    {
     "data": {
      "text/plain": [
       "<matplotlib.image.AxesImage at 0x7f990a3bc970>"
      ]
     },
     "execution_count": 299,
     "metadata": {},
     "output_type": "execute_result"
    },
    {
     "data": {
      "image/png": "[encoded data removed]",
      "text/plain": [
       "<Figure size 640x480 with 1 Axes>"
      ]
     },
     "metadata": {},
     "output_type": "display_data"
    }
   ],
   "source": [
    "commands = [line.split() for line in test2.splitlines()]\n",
    "signal = execute(sync(commands))\n",
    "signal.insert(0, [1, 1])\n",
    "plt.imshow(crt_display(signal[:-1], 40, 6))"
   ]
  },
  {
   "cell_type": "code",
   "execution_count": 300,
   "id": "a5fbb04c",
   "metadata": {
    "ExecuteTime": {
     "end_time": "2022-12-10T06:19:27.010864Z",
     "start_time": "2022-12-10T06:19:26.891889Z"
    }
   },
   "outputs": [
    {
     "data": {
      "text/plain": [
       "<matplotlib.image.AxesImage at 0x7f990ac58070>"
      ]
     },
     "execution_count": 300,
     "metadata": {},
     "output_type": "execute_result"
    },
    {
     "data": {
      "image/png": "[encoded data removed]",
      "text/plain": [
       "<Figure size 640x480 with 1 Axes>"
      ]
     },
     "metadata": {},
     "output_type": "display_data"
    }
   ],
   "source": [
    "commands = [line.split() for line in input_.splitlines()]\n",
    "signal = execute(sync(commands))\n",
    "signal.insert(0, [1, 1])\n",
    "plt.imshow(crt_display(signal[:-1], 40, 6))"
   ]
  },
  {
   "cell_type": "code",
   "execution_count": null,
   "id": "b169484a",
   "metadata": {},
   "outputs": [],
   "source": [
    "# RZEKEFHA"
   ]
  }
 ],
 "metadata": {
  "hide_input": false,
  "kernelspec": {
   "display_name": "Python 3 (ipykernel)",
   "language": "python",
   "name": "python3"
  },
  "language_info": {
   "codemirror_mode": {
    "name": "ipython",
    "version": 3
   },
   "file_extension": ".py",
   "mimetype": "text/x-python",
   "name": "python",
   "nbconvert_exporter": "python",
   "pygments_lexer": "ipython3",
   "version": "3.10.8"
  },
  "toc": {
   "nav_menu": {
    "height": "12px",
    "width": "252px"
   },
   "navigate_menu": true,
   "number_sections": true,
   "sideBar": true,
   "threshold": 4,
   "toc_cell": false,
   "toc_section_display": "block",
   "toc_window_display": false
  }
 },
 "nbformat": 4,
 "nbformat_minor": 5
}
