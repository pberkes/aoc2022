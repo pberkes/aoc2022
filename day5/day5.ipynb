{
 "cells": [
  {
   "cell_type": "code",
   "execution_count": 13,
   "id": "5b1cb3ac",
   "metadata": {
    "ExecuteTime": {
     "end_time": "2022-12-05T05:58:46.703384Z",
     "start_time": "2022-12-05T05:58:46.700658Z"
    }
   },
   "outputs": [],
   "source": [
    "test = \"\"\"\n",
    "    [D]    \n",
    "[N] [C]    \n",
    "[Z] [M] [P]\n",
    " 1   2   3 \n",
    "\n",
    "move 1 from 2 to 1\n",
    "move 3 from 1 to 3\n",
    "move 2 from 2 to 1\n",
    "move 1 from 1 to 2\n",
    "\"\"\".strip('\\n')"
   ]
  },
  {
   "cell_type": "code",
   "execution_count": 10,
   "id": "e63b6ffe",
   "metadata": {
    "ExecuteTime": {
     "end_time": "2022-12-05T05:58:33.231937Z",
     "start_time": "2022-12-05T05:58:33.228747Z"
    }
   },
   "outputs": [],
   "source": [
    "with open('input.txt', 'r') as f:\n",
    "    input_ = f.read()"
   ]
  },
  {
   "cell_type": "markdown",
   "id": "533d4b56",
   "metadata": {},
   "source": [
    "# Part 1"
   ]
  },
  {
   "cell_type": "code",
   "execution_count": 61,
   "id": "dcaf810b",
   "metadata": {
    "ExecuteTime": {
     "end_time": "2022-12-05T06:12:27.193435Z",
     "start_time": "2022-12-05T06:12:27.190244Z"
    }
   },
   "outputs": [],
   "source": [
    "def parse_input(input_):\n",
    "    parts = input_.split('move')\n",
    "    pos = parts[0].strip('\\n').split('\\n')\n",
    "    moves = parts[1:]\n",
    "    return pos, moves"
   ]
  },
  {
   "cell_type": "code",
   "execution_count": 45,
   "id": "b08b9569",
   "metadata": {
    "ExecuteTime": {
     "end_time": "2022-12-05T06:08:53.906709Z",
     "start_time": "2022-12-05T06:08:53.902497Z"
    }
   },
   "outputs": [],
   "source": [
    "def parse_crates(pos):\n",
    "    n_crates = len(pos[-1].split())\n",
    "    crates = [[] for c in range(n_crates)]\n",
    "    for j in reversed(range(len(pos) - 1)):\n",
    "        row = [pos[j][i+1] for i in range(0, len(pos[j]), 4)]\n",
    "        for c in range(n_crates):\n",
    "            if row[c] != ' ':\n",
    "                crates[c].append(row[c])\n",
    "    return n_crates, crates"
   ]
  },
  {
   "cell_type": "code",
   "execution_count": 53,
   "id": "d452a72d",
   "metadata": {
    "ExecuteTime": {
     "end_time": "2022-12-05T06:10:45.021665Z",
     "start_time": "2022-12-05T06:10:45.018362Z"
    }
   },
   "outputs": [],
   "source": [
    "def parse_move(move):\n",
    "    n, from_, to_ = [int(x) for x in move.replace('from', '').replace('to', '').split()]\n",
    "    return n, from_ - 1, to_ - 1"
   ]
  },
  {
   "cell_type": "code",
   "execution_count": 59,
   "id": "643fef75",
   "metadata": {
    "ExecuteTime": {
     "end_time": "2022-12-05T06:11:58.948100Z",
     "start_time": "2022-12-05T06:11:58.944074Z"
    }
   },
   "outputs": [],
   "source": [
    "def execute_9000(pos, moves):\n",
    "    n_crates, crates = parse_crates(pos)\n",
    "    for move in moves:\n",
    "        n, from_, to_ = parse_move(move)\n",
    "        for _ in range(n):\n",
    "            x = crates[from_].pop()\n",
    "            crates[to_].append(x)\n",
    "    return ''.join([c[-1] for c in crates])"
   ]
  },
  {
   "cell_type": "code",
   "execution_count": 62,
   "id": "21b55b87",
   "metadata": {
    "ExecuteTime": {
     "end_time": "2022-12-05T06:12:35.714076Z",
     "start_time": "2022-12-05T06:12:35.710028Z"
    }
   },
   "outputs": [
    {
     "data": {
      "text/plain": [
       "'CMZ'"
      ]
     },
     "execution_count": 62,
     "metadata": {},
     "output_type": "execute_result"
    }
   ],
   "source": [
    "pos, moves = parse_input(test)\n",
    "execute_9000(pos, moves)"
   ]
  },
  {
   "cell_type": "code",
   "execution_count": 63,
   "id": "8bcc7526",
   "metadata": {
    "ExecuteTime": {
     "end_time": "2022-12-05T06:12:40.503514Z",
     "start_time": "2022-12-05T06:12:40.494342Z"
    }
   },
   "outputs": [
    {
     "data": {
      "text/plain": [
       "'LJSVLTWQM'"
      ]
     },
     "execution_count": 63,
     "metadata": {},
     "output_type": "execute_result"
    }
   ],
   "source": [
    "pos, moves = parse_input(input_)\n",
    "execute_9000(pos, moves)"
   ]
  },
  {
   "cell_type": "markdown",
   "id": "984acafe",
   "metadata": {},
   "source": [
    "# Part 2"
   ]
  },
  {
   "cell_type": "code",
   "execution_count": 91,
   "id": "d6d7e2f5",
   "metadata": {
    "ExecuteTime": {
     "end_time": "2022-12-05T06:18:57.278525Z",
     "start_time": "2022-12-05T06:18:57.274735Z"
    }
   },
   "outputs": [],
   "source": [
    "def execute_9001(pos, moves):\n",
    "    n_crates, crates = parse_crates(pos)\n",
    "    for move in moves:\n",
    "        n, from_, to_ = parse_move(move)\n",
    "        x = crates[from_][-n:]\n",
    "        crates[from_] = crates[from_][:-n]\n",
    "        crates[to_].extend(x)\n",
    "    return ''.join([c[-1] for c in crates])"
   ]
  },
  {
   "cell_type": "code",
   "execution_count": 92,
   "id": "43379b1f",
   "metadata": {
    "ExecuteTime": {
     "end_time": "2022-12-05T06:18:58.519470Z",
     "start_time": "2022-12-05T06:18:58.512170Z"
    }
   },
   "outputs": [
    {
     "data": {
      "text/plain": [
       "'MCD'"
      ]
     },
     "execution_count": 92,
     "metadata": {},
     "output_type": "execute_result"
    }
   ],
   "source": [
    "pos, moves = parse_input(test)\n",
    "execute_9001(pos, moves)"
   ]
  },
  {
   "cell_type": "code",
   "execution_count": 93,
   "id": "cae5eb97",
   "metadata": {
    "ExecuteTime": {
     "end_time": "2022-12-05T06:18:58.739988Z",
     "start_time": "2022-12-05T06:18:58.726763Z"
    }
   },
   "outputs": [
    {
     "data": {
      "text/plain": [
       "'BRQWDBBJM'"
      ]
     },
     "execution_count": 93,
     "metadata": {},
     "output_type": "execute_result"
    }
   ],
   "source": [
    "pos, moves = parse_input(input_)\n",
    "execute_9001(pos, moves)"
   ]
  },
  {
   "cell_type": "code",
   "execution_count": null,
   "id": "86d13642",
   "metadata": {},
   "outputs": [],
   "source": []
  }
 ],
 "metadata": {
  "hide_input": false,
  "kernelspec": {
   "display_name": "Python 3 (ipykernel)",
   "language": "python",
   "name": "python3"
  },
  "language_info": {
   "codemirror_mode": {
    "name": "ipython",
    "version": 3
   },
   "file_extension": ".py",
   "mimetype": "text/x-python",
   "name": "python",
   "nbconvert_exporter": "python",
   "pygments_lexer": "ipython3",
   "version": "3.10.8"
  },
  "toc": {
   "nav_menu": {
    "height": "12px",
    "width": "252px"
   },
   "navigate_menu": true,
   "number_sections": true,
   "sideBar": true,
   "threshold": 4,
   "toc_cell": false,
   "toc_section_display": "block",
   "toc_window_display": false
  }
 },
 "nbformat": 4,
 "nbformat_minor": 5
}
