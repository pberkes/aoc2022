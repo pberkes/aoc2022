{
 "cells": [
  {
   "cell_type": "code",
   "execution_count": 1,
   "id": "5b1cb3ac",
   "metadata": {
    "ExecuteTime": {
     "end_time": "2022-12-06T05:01:18.546378Z",
     "start_time": "2022-12-06T05:01:18.306031Z"
    }
   },
   "outputs": [],
   "source": [
    "test = 'nznrnfrfntjfmvfwmzdfjlvtqnbhcprsg'"
   ]
  },
  {
   "cell_type": "code",
   "execution_count": 2,
   "id": "e63b6ffe",
   "metadata": {
    "ExecuteTime": {
     "end_time": "2022-12-06T05:01:36.419238Z",
     "start_time": "2022-12-06T05:01:36.414219Z"
    }
   },
   "outputs": [],
   "source": [
    "with open('input.txt', 'r') as f:\n",
    "    input_ = f.read()"
   ]
  },
  {
   "cell_type": "markdown",
   "id": "533d4b56",
   "metadata": {},
   "source": [
    "# Part 1"
   ]
  },
  {
   "cell_type": "code",
   "execution_count": 11,
   "id": "1c6ad104",
   "metadata": {
    "ExecuteTime": {
     "end_time": "2022-12-06T05:06:35.170071Z",
     "start_time": "2022-12-06T05:06:35.166825Z"
    }
   },
   "outputs": [],
   "source": [
    "def first_different_seq(input_, seqlen):\n",
    "    for i in range(len(input_) - seqlen):\n",
    "        if len(set(input_[i:i+seqlen])) == seqlen:\n",
    "            break\n",
    "    return i + seqlen"
   ]
  },
  {
   "cell_type": "code",
   "execution_count": 12,
   "id": "50fcfa83",
   "metadata": {
    "ExecuteTime": {
     "end_time": "2022-12-06T05:06:35.484680Z",
     "start_time": "2022-12-06T05:06:35.478447Z"
    }
   },
   "outputs": [
    {
     "data": {
      "text/plain": [
       "10"
      ]
     },
     "execution_count": 12,
     "metadata": {},
     "output_type": "execute_result"
    }
   ],
   "source": [
    "first_different_seq(test, 4)"
   ]
  },
  {
   "cell_type": "code",
   "execution_count": 13,
   "id": "89daf657",
   "metadata": {
    "ExecuteTime": {
     "end_time": "2022-12-06T05:06:40.931290Z",
     "start_time": "2022-12-06T05:06:40.926688Z"
    }
   },
   "outputs": [
    {
     "data": {
      "text/plain": [
       "1287"
      ]
     },
     "execution_count": 13,
     "metadata": {},
     "output_type": "execute_result"
    }
   ],
   "source": [
    "first_different_seq(input_, 4)"
   ]
  },
  {
   "cell_type": "markdown",
   "id": "984acafe",
   "metadata": {},
   "source": [
    "# Part 2"
   ]
  },
  {
   "cell_type": "code",
   "execution_count": 14,
   "id": "d6d7e2f5",
   "metadata": {
    "ExecuteTime": {
     "end_time": "2022-12-06T05:06:48.891893Z",
     "start_time": "2022-12-06T05:06:48.886355Z"
    }
   },
   "outputs": [
    {
     "data": {
      "text/plain": [
       "29"
      ]
     },
     "execution_count": 14,
     "metadata": {},
     "output_type": "execute_result"
    }
   ],
   "source": [
    "first_different_seq(test, 14)"
   ]
  },
  {
   "cell_type": "code",
   "execution_count": 15,
   "id": "17bb8521",
   "metadata": {
    "ExecuteTime": {
     "end_time": "2022-12-06T05:06:54.605746Z",
     "start_time": "2022-12-06T05:06:54.599017Z"
    }
   },
   "outputs": [
    {
     "data": {
      "text/plain": [
       "3716"
      ]
     },
     "execution_count": 15,
     "metadata": {},
     "output_type": "execute_result"
    }
   ],
   "source": [
    "first_different_seq(input_, 14)"
   ]
  },
  {
   "cell_type": "code",
   "execution_count": null,
   "id": "0032618a",
   "metadata": {},
   "outputs": [],
   "source": []
  }
 ],
 "metadata": {
  "hide_input": false,
  "kernelspec": {
   "display_name": "Python 3 (ipykernel)",
   "language": "python",
   "name": "python3"
  },
  "language_info": {
   "codemirror_mode": {
    "name": "ipython",
    "version": 3
   },
   "file_extension": ".py",
   "mimetype": "text/x-python",
   "name": "python",
   "nbconvert_exporter": "python",
   "pygments_lexer": "ipython3",
   "version": "3.10.8"
  },
  "toc": {
   "nav_menu": {
    "height": "12px",
    "width": "252px"
   },
   "navigate_menu": true,
   "number_sections": true,
   "sideBar": true,
   "threshold": 4,
   "toc_cell": false,
   "toc_section_display": "block",
   "toc_window_display": false
  }
 },
 "nbformat": 4,
 "nbformat_minor": 5
}
