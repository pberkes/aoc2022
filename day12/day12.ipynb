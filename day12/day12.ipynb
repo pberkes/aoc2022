{
 "cells": [
  {
   "cell_type": "code",
   "execution_count": 5,
   "id": "6a0bf45e",
   "metadata": {
    "ExecuteTime": {
     "end_time": "2022-12-12T05:03:09.608260Z",
     "start_time": "2022-12-12T05:03:08.968946Z"
    }
   },
   "outputs": [],
   "source": [
    "import matplotlib as plt\n",
    "import numpy as np"
   ]
  },
  {
   "cell_type": "code",
   "execution_count": 6,
   "id": "5b1cb3ac",
   "metadata": {
    "ExecuteTime": {
     "end_time": "2022-12-12T05:03:09.614126Z",
     "start_time": "2022-12-12T05:03:09.610934Z"
    }
   },
   "outputs": [],
   "source": [
    "test = \"\"\"\n",
    "Sabqponm\n",
    "abcryxxl\n",
    "accszExk\n",
    "acctuvwj\n",
    "abdefghi\n",
    "\"\"\".strip()"
   ]
  },
  {
   "cell_type": "code",
   "execution_count": 7,
   "id": "e63b6ffe",
   "metadata": {
    "ExecuteTime": {
     "end_time": "2022-12-12T05:03:09.623592Z",
     "start_time": "2022-12-12T05:03:09.619420Z"
    }
   },
   "outputs": [],
   "source": [
    "with open('input.txt', 'r') as f:\n",
    "    input_ = f.read().strip()"
   ]
  },
  {
   "cell_type": "markdown",
   "id": "533d4b56",
   "metadata": {},
   "source": [
    "# Part 1"
   ]
  },
  {
   "cell_type": "code",
   "execution_count": 63,
   "id": "fee81387",
   "metadata": {
    "ExecuteTime": {
     "end_time": "2022-12-12T05:22:33.367747Z",
     "start_time": "2022-12-12T05:22:33.364676Z"
    }
   },
   "outputs": [],
   "source": [
    "def print_map(map_):\n",
    "    print('\\n'.join([''.join(line) for line in map_.tolist()]))"
   ]
  },
  {
   "cell_type": "code",
   "execution_count": 94,
   "id": "f7b61239",
   "metadata": {
    "ExecuteTime": {
     "end_time": "2022-12-12T05:28:08.927750Z",
     "start_time": "2022-12-12T05:28:08.920287Z"
    }
   },
   "outputs": [],
   "source": [
    "def parse_map(input_):\n",
    "    map_ = np.array([list(line) for line in input_.splitlines()])\n",
    "    start_pos = np.where(map_ == 'S')\n",
    "    start_pos = (start_pos[0][0], start_pos[1][0])\n",
    "    end_pos = np.where(map_ == 'E')\n",
    "    end_pos = (end_pos[0][0], end_pos[1][0])\n",
    "    map_[start_pos[0], start_pos[1]] = 'a'\n",
    "    map_[end_pos[0], end_pos[1]] = 'z'\n",
    "    return map_, start_pos, end_pos"
   ]
  },
  {
   "cell_type": "code",
   "execution_count": 90,
   "id": "7c33793c",
   "metadata": {
    "ExecuteTime": {
     "end_time": "2022-12-12T05:27:04.590771Z",
     "start_time": "2022-12-12T05:27:04.586090Z"
    }
   },
   "outputs": [],
   "source": [
    "def get_legal_moves(map_, pos):\n",
    "    height, width = map_.shape\n",
    "    candidates = []\n",
    "    for m in moves:\n",
    "        candidate = (pos[0] + m[0], pos[1] + m[1])\n",
    "        if candidate[0] < 0 or candidate[0] >= height:\n",
    "            continue\n",
    "        if candidate[1] < 0 or candidate[1] >= width:\n",
    "            continue\n",
    "        if ord(map_[candidate[0], candidate[1]]) - ord(map_[pos[0], pos[1]]) > 1:\n",
    "            continue\n",
    "        candidates.append(candidate) \n",
    "    return candidates"
   ]
  },
  {
   "cell_type": "code",
   "execution_count": 111,
   "id": "2139d786",
   "metadata": {
    "ExecuteTime": {
     "end_time": "2022-12-12T06:03:30.127339Z",
     "start_time": "2022-12-12T06:03:30.122688Z"
    }
   },
   "outputs": [],
   "source": [
    "def find_path(map_, start_pos, end_pos):\n",
    "    parents = {start_pos: None}\n",
    "    explored = {start_pos}\n",
    "    queue = [start_pos]\n",
    "    while len(queue) > 0:\n",
    "        pos = queue.pop(0)\n",
    "        if pos == end_pos:\n",
    "            path = [pos]\n",
    "            p = pos\n",
    "            while p != start_pos:\n",
    "                p = parents[p]\n",
    "                path.append(p)\n",
    "            return path\n",
    "        for next_pos in get_legal_moves(map_, pos):\n",
    "            if next_pos not in explored:\n",
    "                explored.add(next_pos)\n",
    "                parents[tuple(next_pos)] = pos\n",
    "                queue.append(next_pos)\n"
   ]
  },
  {
   "cell_type": "code",
   "execution_count": 89,
   "id": "a2bfd1ac",
   "metadata": {
    "ExecuteTime": {
     "end_time": "2022-12-12T05:27:01.358037Z",
     "start_time": "2022-12-12T05:27:01.354798Z"
    }
   },
   "outputs": [],
   "source": [
    "moves = [np.array(x) for x in [(0, 1), (0, -1), (1, 0), (-1, 0)]]"
   ]
  },
  {
   "cell_type": "code",
   "execution_count": 87,
   "id": "bf4d56a4",
   "metadata": {
    "ExecuteTime": {
     "end_time": "2022-12-12T05:26:50.143463Z",
     "start_time": "2022-12-12T05:26:50.138005Z"
    }
   },
   "outputs": [
    {
     "data": {
      "text/plain": [
       "((0, 0), (2, 5))"
      ]
     },
     "execution_count": 87,
     "metadata": {},
     "output_type": "execute_result"
    }
   ],
   "source": [
    "map_, start_pos, end_pos = parse_map(test)\n",
    "start_pos, end_pos"
   ]
  },
  {
   "cell_type": "code",
   "execution_count": 88,
   "id": "3489b192",
   "metadata": {
    "ExecuteTime": {
     "end_time": "2022-12-12T05:26:52.350371Z",
     "start_time": "2022-12-12T05:26:52.347183Z"
    },
    "scrolled": true
   },
   "outputs": [
    {
     "name": "stdout",
     "output_type": "stream",
     "text": [
      "aabqponm\n",
      "abcryxxl\n",
      "accszzxk\n",
      "acctuvwj\n",
      "abdefghi\n"
     ]
    }
   ],
   "source": [
    "print_map(map_)"
   ]
  },
  {
   "cell_type": "code",
   "execution_count": 92,
   "id": "03df637d",
   "metadata": {
    "ExecuteTime": {
     "end_time": "2022-12-12T05:27:37.984227Z",
     "start_time": "2022-12-12T05:27:37.977571Z"
    }
   },
   "outputs": [
    {
     "data": {
      "text/plain": [
       "31"
      ]
     },
     "execution_count": 92,
     "metadata": {},
     "output_type": "execute_result"
    }
   ],
   "source": [
    "path = find_path(map_, start_pos, end_pos)\n",
    "len(path) - 1"
   ]
  },
  {
   "cell_type": "code",
   "execution_count": 112,
   "id": "1d4d70b6",
   "metadata": {
    "ExecuteTime": {
     "end_time": "2022-12-12T06:03:33.276562Z",
     "start_time": "2022-12-12T06:03:33.242621Z"
    }
   },
   "outputs": [
    {
     "data": {
      "text/plain": [
       "391"
      ]
     },
     "execution_count": 112,
     "metadata": {},
     "output_type": "execute_result"
    }
   ],
   "source": [
    "map_, start_pos, end_pos = parse_map(input_)\n",
    "path = find_path(map_, start_pos, end_pos)\n",
    "len(path) - 1"
   ]
  },
  {
   "cell_type": "markdown",
   "id": "984acafe",
   "metadata": {},
   "source": [
    "# Part 2"
   ]
  },
  {
   "cell_type": "code",
   "execution_count": 123,
   "id": "d6d7e2f5",
   "metadata": {
    "ExecuteTime": {
     "end_time": "2022-12-12T06:05:08.186635Z",
     "start_time": "2022-12-12T06:05:08.182857Z"
    }
   },
   "outputs": [
    {
     "name": "stdout",
     "output_type": "stream",
     "text": [
      "aabqponm\n",
      "abcryxxl\n",
      "accszzxk\n",
      "acctuvwj\n",
      "abdefghi\n"
     ]
    }
   ],
   "source": [
    "map_, start_pos, end_pos = parse_map(test)\n",
    "print_map(map_)"
   ]
  },
  {
   "cell_type": "code",
   "execution_count": 124,
   "id": "371d36ee",
   "metadata": {
    "ExecuteTime": {
     "end_time": "2022-12-12T06:05:08.366955Z",
     "start_time": "2022-12-12T06:05:08.358795Z"
    }
   },
   "outputs": [
    {
     "data": {
      "text/plain": [
       "29"
      ]
     },
     "execution_count": 124,
     "metadata": {},
     "output_type": "execute_result"
    }
   ],
   "source": [
    "start_y, start_x = np.where(map_ == 'a')\n",
    "min_length = 10000000000\n",
    "for idx in range(len(start_y)):\n",
    "    pos = (start_y[idx], start_x[idx])\n",
    "    path = find_path(map_, pos, end_pos)\n",
    "    if path is None:\n",
    "        continue    \n",
    "    length = len(path) - 1\n",
    "    if length < min_length:\n",
    "        min_length = length\n",
    "min_length"
   ]
  },
  {
   "cell_type": "code",
   "execution_count": 118,
   "id": "698c590b",
   "metadata": {
    "ExecuteTime": {
     "end_time": "2022-12-12T06:04:38.179992Z",
     "start_time": "2022-12-12T06:04:33.480351Z"
    }
   },
   "outputs": [
    {
     "data": {
      "text/plain": [
       "386"
      ]
     },
     "execution_count": 118,
     "metadata": {},
     "output_type": "execute_result"
    }
   ],
   "source": [
    "map_, start_pos, end_pos = parse_map(input_)\n",
    "start_y, start_x = np.where(map_ == 'a')\n",
    "min_length = 10000000000\n",
    "for idx in range(len(start_y)):\n",
    "    pos = (start_y[idx], start_x[idx])\n",
    "    path = find_path(map_, pos, end_pos)\n",
    "    if path is None:\n",
    "        continue\n",
    "    length = len(path) - 1\n",
    "    if length < min_length:\n",
    "        min_length = length\n",
    "min_length"
   ]
  },
  {
   "cell_type": "code",
   "execution_count": null,
   "id": "0d8fd1db",
   "metadata": {},
   "outputs": [],
   "source": []
  }
 ],
 "metadata": {
  "hide_input": false,
  "kernelspec": {
   "display_name": "Python 3 (ipykernel)",
   "language": "python",
   "name": "python3"
  },
  "language_info": {
   "codemirror_mode": {
    "name": "ipython",
    "version": 3
   },
   "file_extension": ".py",
   "mimetype": "text/x-python",
   "name": "python",
   "nbconvert_exporter": "python",
   "pygments_lexer": "ipython3",
   "version": "3.10.8"
  },
  "toc": {
   "nav_menu": {
    "height": "12px",
    "width": "252px"
   },
   "navigate_menu": true,
   "number_sections": true,
   "sideBar": true,
   "threshold": 4,
   "toc_cell": false,
   "toc_section_display": "block",
   "toc_window_display": false
  }
 },
 "nbformat": 4,
 "nbformat_minor": 5
}
