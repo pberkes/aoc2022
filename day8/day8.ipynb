{
 "cells": [
  {
   "cell_type": "code",
   "execution_count": 130,
   "id": "6a0bf45e",
   "metadata": {
    "ExecuteTime": {
     "end_time": "2022-12-08T06:45:24.678051Z",
     "start_time": "2022-12-08T06:45:24.673971Z"
    }
   },
   "outputs": [],
   "source": [
    "import matplotlib.pyplot as plt\n",
    "import numpy as np"
   ]
  },
  {
   "cell_type": "code",
   "execution_count": 131,
   "id": "5b1cb3ac",
   "metadata": {
    "ExecuteTime": {
     "end_time": "2022-12-08T06:45:25.472343Z",
     "start_time": "2022-12-08T06:45:25.465306Z"
    }
   },
   "outputs": [],
   "source": [
    "test = \"\"\"\n",
    "30373\n",
    "25512\n",
    "65332\n",
    "33549\n",
    "35390\n",
    "\"\"\".strip()"
   ]
  },
  {
   "cell_type": "code",
   "execution_count": 132,
   "id": "e63b6ffe",
   "metadata": {
    "ExecuteTime": {
     "end_time": "2022-12-08T06:45:25.605755Z",
     "start_time": "2022-12-08T06:45:25.601905Z"
    }
   },
   "outputs": [],
   "source": [
    "with open('input.txt', 'r') as f:\n",
    "    input_ = f.read()"
   ]
  },
  {
   "cell_type": "markdown",
   "id": "533d4b56",
   "metadata": {},
   "source": [
    "# Part 1"
   ]
  },
  {
   "cell_type": "code",
   "execution_count": 133,
   "id": "2b25dfa5",
   "metadata": {
    "ExecuteTime": {
     "end_time": "2022-12-08T06:45:27.672464Z",
     "start_time": "2022-12-08T06:45:27.666789Z"
    }
   },
   "outputs": [],
   "source": [
    "def parse_grid(grid):\n",
    "    return np.array([[int(x) for x in row] for row in grid.splitlines()])"
   ]
  },
  {
   "cell_type": "code",
   "execution_count": 134,
   "id": "c2ea8660",
   "metadata": {
    "ExecuteTime": {
     "end_time": "2022-12-08T06:45:33.005389Z",
     "start_time": "2022-12-08T06:45:33.000836Z"
    }
   },
   "outputs": [
    {
     "data": {
      "text/plain": [
       "array([[3, 0, 3, 7, 3],\n",
       "       [2, 5, 5, 1, 2],\n",
       "       [6, 5, 3, 3, 2],\n",
       "       [3, 3, 5, 4, 9],\n",
       "       [3, 5, 3, 9, 0]])"
      ]
     },
     "execution_count": 134,
     "metadata": {},
     "output_type": "execute_result"
    }
   ],
   "source": [
    "grid = parse_grid(test)\n",
    "grid"
   ]
  },
  {
   "cell_type": "code",
   "execution_count": 150,
   "id": "1b3894f8",
   "metadata": {
    "ExecuteTime": {
     "end_time": "2022-12-08T06:47:43.108146Z",
     "start_time": "2022-12-08T06:47:43.101655Z"
    }
   },
   "outputs": [],
   "source": [
    "def examine_row(row, row_visible):\n",
    "    tallest = -1\n",
    "    tallest_idx = -1\n",
    "    for idx, height in enumerate(row):\n",
    "        if height > tallest:\n",
    "            tallest = height\n",
    "            tallest_idx = idx\n",
    "            row_visible[tallest_idx] = 1\n",
    "\n",
    "def visible_trees(grid):\n",
    "    visible = np.zeros_like(grid)\n",
    "    visible[:, 0] = 1\n",
    "    visible[0, :] = 1\n",
    "    visible[-1, :] = 1\n",
    "    visible[:, -1] = 1\n",
    "\n",
    "    # Scan in all directions\n",
    "    for idx in range(grid.shape[0]):\n",
    "        row = grid[idx, :]\n",
    "        row_visible = visible[idx, :]\n",
    "        examine_row(row, row_visible)\n",
    "        row = grid[idx, ::-1]\n",
    "        row_visible = visible[idx, ::-1]\n",
    "        examine_row(row, row_visible)\n",
    "\n",
    "    for idx in range(grid.shape[1]):\n",
    "        row = grid[:, idx]\n",
    "        row_visible = visible[:, idx]\n",
    "        examine_row(row, row_visible)\n",
    "        row = grid[::-1, idx]\n",
    "        row_visible = visible[::-1, idx]\n",
    "        examine_row(row, row_visible)\n",
    "    return visible"
   ]
  },
  {
   "cell_type": "code",
   "execution_count": 151,
   "id": "b5fd678b",
   "metadata": {
    "ExecuteTime": {
     "end_time": "2022-12-08T06:47:43.264458Z",
     "start_time": "2022-12-08T06:47:43.261758Z"
    }
   },
   "outputs": [],
   "source": [
    "grid_test = parse_grid(test)"
   ]
  },
  {
   "cell_type": "code",
   "execution_count": 152,
   "id": "0bf11adc",
   "metadata": {
    "ExecuteTime": {
     "end_time": "2022-12-08T06:47:43.415934Z",
     "start_time": "2022-12-08T06:47:43.413251Z"
    }
   },
   "outputs": [],
   "source": [
    "visible_test = visible_trees(grid_test)"
   ]
  },
  {
   "cell_type": "code",
   "execution_count": 153,
   "id": "7c5957a0",
   "metadata": {
    "ExecuteTime": {
     "end_time": "2022-12-08T06:47:43.593370Z",
     "start_time": "2022-12-08T06:47:43.589087Z"
    }
   },
   "outputs": [
    {
     "data": {
      "text/plain": [
       "array([[1, 1, 1, 1, 1],\n",
       "       [1, 1, 1, 0, 1],\n",
       "       [1, 1, 0, 1, 1],\n",
       "       [1, 0, 1, 0, 1],\n",
       "       [1, 1, 1, 1, 1]])"
      ]
     },
     "execution_count": 153,
     "metadata": {},
     "output_type": "execute_result"
    }
   ],
   "source": [
    "visible_test"
   ]
  },
  {
   "cell_type": "code",
   "execution_count": 154,
   "id": "712f7c76",
   "metadata": {
    "ExecuteTime": {
     "end_time": "2022-12-08T06:47:43.947311Z",
     "start_time": "2022-12-08T06:47:43.917275Z"
    }
   },
   "outputs": [
    {
     "data": {
      "text/plain": [
       "21"
      ]
     },
     "execution_count": 154,
     "metadata": {},
     "output_type": "execute_result"
    }
   ],
   "source": [
    "visible_test.sum()"
   ]
  },
  {
   "cell_type": "code",
   "execution_count": 155,
   "id": "36a67714",
   "metadata": {
    "ExecuteTime": {
     "end_time": "2022-12-08T06:47:44.350754Z",
     "start_time": "2022-12-08T06:47:44.340888Z"
    }
   },
   "outputs": [],
   "source": [
    "grid = parse_grid(input_)\n",
    "visible = visible_trees(grid)"
   ]
  },
  {
   "cell_type": "code",
   "execution_count": 156,
   "id": "a411dd3d",
   "metadata": {
    "ExecuteTime": {
     "end_time": "2022-12-08T06:47:44.812810Z",
     "start_time": "2022-12-08T06:47:44.668643Z"
    }
   },
   "outputs": [
    {
     "data": {
      "text/plain": [
       "<matplotlib.image.AxesImage at 0x7fd7beacb5b0>"
      ]
     },
     "execution_count": 156,
     "metadata": {},
     "output_type": "execute_result"
    },
    {
     "data": {
      "image/png": "[encoded data removed]",
      "text/plain": [
       "<Figure size 640x480 with 1 Axes>"
      ]
     },
     "metadata": {},
     "output_type": "display_data"
    }
   ],
   "source": [
    "plt.imshow(grid)"
   ]
  },
  {
   "cell_type": "code",
   "execution_count": 157,
   "id": "4482cc3d",
   "metadata": {
    "ExecuteTime": {
     "end_time": "2022-12-08T06:47:45.485897Z",
     "start_time": "2022-12-08T06:47:45.347879Z"
    }
   },
   "outputs": [
    {
     "data": {
      "text/plain": [
       "<matplotlib.image.AxesImage at 0x7fd7bea91930>"
      ]
     },
     "execution_count": 157,
     "metadata": {},
     "output_type": "execute_result"
    },
    {
     "data": {
      "image/png": "[encoded data removed]",
      "text/plain": [
       "<Figure size 640x480 with 1 Axes>"
      ]
     },
     "metadata": {},
     "output_type": "display_data"
    }
   ],
   "source": [
    "plt.imshow(visible)"
   ]
  },
  {
   "cell_type": "code",
   "execution_count": 158,
   "id": "3fe1e454",
   "metadata": {
    "ExecuteTime": {
     "end_time": "2022-12-08T06:47:47.384574Z",
     "start_time": "2022-12-08T06:47:47.380252Z"
    }
   },
   "outputs": [
    {
     "data": {
      "text/plain": [
       "1715"
      ]
     },
     "execution_count": 158,
     "metadata": {},
     "output_type": "execute_result"
    }
   ],
   "source": [
    "visible.sum()"
   ]
  },
  {
   "cell_type": "markdown",
   "id": "984acafe",
   "metadata": {},
   "source": [
    "# Part 2"
   ]
  },
  {
   "cell_type": "code",
   "execution_count": 191,
   "id": "c5fe8e52",
   "metadata": {
    "ExecuteTime": {
     "end_time": "2022-12-08T06:55:31.504412Z",
     "start_time": "2022-12-08T06:55:31.498995Z"
    }
   },
   "outputs": [],
   "source": [
    "def compare(line, el):\n",
    "    cmp = line >= el\n",
    "    if ~cmp.any():\n",
    "        return line.shape[0]\n",
    "    return cmp.argmax() + 1\n",
    "\n",
    "def score_pos(grid, i, j):\n",
    "    score_down = compare(grid[i+1:, j], grid[i, j])\n",
    "    score_up = compare(grid[i-1::-1, j], grid[i, j])\n",
    "    score_right = compare(grid[i, j+1:], grid[i, j])\n",
    "    score_left = compare(grid[i, j-1::-1], grid[i, j])\n",
    "    score = score_down * score_up * score_right * score_left\n",
    "    return score\n",
    "\n",
    "def compute_score_grid(grid):\n",
    "    score_grid = np.zeros_like(grid, dtype=int)\n",
    "    for i in range(1, grid.shape[0] - 1):\n",
    "        for j in range(1, grid.shape[1] - 1):\n",
    "            score_grid[i, j] = score_pos(grid, i, j)\n",
    "    return score_grid"
   ]
  },
  {
   "cell_type": "code",
   "execution_count": 192,
   "id": "11eb4654",
   "metadata": {
    "ExecuteTime": {
     "end_time": "2022-12-08T06:55:31.639684Z",
     "start_time": "2022-12-08T06:55:31.634786Z"
    }
   },
   "outputs": [
    {
     "data": {
      "text/plain": [
       "array([[0, 0, 0, 0, 0],\n",
       "       [0, 1, 4, 1, 0],\n",
       "       [0, 6, 1, 2, 0],\n",
       "       [0, 1, 8, 3, 0],\n",
       "       [0, 0, 0, 0, 0]])"
      ]
     },
     "execution_count": 192,
     "metadata": {},
     "output_type": "execute_result"
    }
   ],
   "source": [
    "score_grid = compute_score_grid(grid_test)\n",
    "score_grid"
   ]
  },
  {
   "cell_type": "code",
   "execution_count": 193,
   "id": "0df052b5",
   "metadata": {
    "ExecuteTime": {
     "end_time": "2022-12-08T06:55:31.772454Z",
     "start_time": "2022-12-08T06:55:31.766968Z"
    }
   },
   "outputs": [
    {
     "data": {
      "text/plain": [
       "8"
      ]
     },
     "execution_count": 193,
     "metadata": {},
     "output_type": "execute_result"
    }
   ],
   "source": [
    "score_grid.max()"
   ]
  },
  {
   "cell_type": "code",
   "execution_count": 195,
   "id": "681fb61e",
   "metadata": {
    "ExecuteTime": {
     "end_time": "2022-12-08T06:55:47.082276Z",
     "start_time": "2022-12-08T06:55:46.546600Z"
    }
   },
   "outputs": [
    {
     "data": {
      "text/plain": [
       "<matplotlib.image.AxesImage at 0x7fd7be487a60>"
      ]
     },
     "execution_count": 195,
     "metadata": {},
     "output_type": "execute_result"
    },
    {
     "data": {
      "image/png": "[encoded data removed]",
      "text/plain": [
       "<Figure size 640x480 with 1 Axes>"
      ]
     },
     "metadata": {},
     "output_type": "display_data"
    }
   ],
   "source": [
    "score_grid = compute_score_grid(grid)\n",
    "plt.imshow(score_grid)"
   ]
  },
  {
   "cell_type": "code",
   "execution_count": 196,
   "id": "8e1e7bd7",
   "metadata": {
    "ExecuteTime": {
     "end_time": "2022-12-08T06:55:57.758736Z",
     "start_time": "2022-12-08T06:55:57.754072Z"
    }
   },
   "outputs": [
    {
     "data": {
      "text/plain": [
       "374400"
      ]
     },
     "execution_count": 196,
     "metadata": {},
     "output_type": "execute_result"
    }
   ],
   "source": [
    "score_grid.max()"
   ]
  },
  {
   "cell_type": "code",
   "execution_count": null,
   "id": "416c00de",
   "metadata": {},
   "outputs": [],
   "source": []
  }
 ],
 "metadata": {
  "hide_input": false,
  "kernelspec": {
   "display_name": "Python 3 (ipykernel)",
   "language": "python",
   "name": "python3"
  },
  "language_info": {
   "codemirror_mode": {
    "name": "ipython",
    "version": 3
   },
   "file_extension": ".py",
   "mimetype": "text/x-python",
   "name": "python",
   "nbconvert_exporter": "python",
   "pygments_lexer": "ipython3",
   "version": "3.10.8"
  },
  "toc": {
   "nav_menu": {
    "height": "12px",
    "width": "252px"
   },
   "navigate_menu": true,
   "number_sections": true,
   "sideBar": true,
   "threshold": 4,
   "toc_cell": false,
   "toc_section_display": "block",
   "toc_window_display": false
  }
 },
 "nbformat": 4,
 "nbformat_minor": 5
}
