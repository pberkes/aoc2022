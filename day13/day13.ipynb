{
 "cells": [
  {
   "cell_type": "code",
   "execution_count": 179,
   "id": "5b1cb3ac",
   "metadata": {
    "ExecuteTime": {
     "end_time": "2022-12-13T06:37:07.042398Z",
     "start_time": "2022-12-13T06:37:07.036756Z"
    }
   },
   "outputs": [],
   "source": [
    "test = \"\"\"\n",
    "[1,1,3,1,1]\n",
    "[1,1,5,1,1]\n",
    "\n",
    "[[1],[2,3,4]]\n",
    "[[1],4]\n",
    "\n",
    "[9]\n",
    "[[8,7,6]]\n",
    "\n",
    "[[4,4],4,4]\n",
    "[[4,4],4,4,4]\n",
    "\n",
    "[7,7,7,7]\n",
    "[7,7,7]\n",
    "\n",
    "[]\n",
    "[3]\n",
    "\n",
    "[[[]]]\n",
    "[[]]\n",
    "\n",
    "[1,[2,[3,[4,[5,6,7]]]],8,9]\n",
    "[1,[2,[3,[4,[5,6,0]]]],8,9]\n",
    "\"\"\".strip()"
   ]
  },
  {
   "cell_type": "code",
   "execution_count": 180,
   "id": "e63b6ffe",
   "metadata": {
    "ExecuteTime": {
     "end_time": "2022-12-13T06:37:07.217434Z",
     "start_time": "2022-12-13T06:37:07.213064Z"
    }
   },
   "outputs": [],
   "source": [
    "with open('input.txt', 'r') as f:\n",
    "    input_ = f.read().strip()"
   ]
  },
  {
   "cell_type": "markdown",
   "id": "533d4b56",
   "metadata": {},
   "source": [
    "# Part 1"
   ]
  },
  {
   "cell_type": "code",
   "execution_count": 217,
   "id": "1d4d70b6",
   "metadata": {
    "ExecuteTime": {
     "end_time": "2022-12-13T06:48:47.496984Z",
     "start_time": "2022-12-13T06:48:47.491455Z"
    }
   },
   "outputs": [],
   "source": [
    "def right_order(left, right):\n",
    "    ordered = None\n",
    "    #print('l -->', left, '\\nr -->', right)\n",
    "    if left == right:\n",
    "        return None\n",
    "    \n",
    "    # left and right are values\n",
    "    if isinstance(left, int) and isinstance(right, int):\n",
    "        return left < right\n",
    "\n",
    "    # left and right are lists\n",
    "    while True:\n",
    "        # compare lengths\n",
    "        if len(left) == 0 and len(right) == 0:\n",
    "            return None\n",
    "        if len(left) == 0 and len(right) > 0:\n",
    "            return True\n",
    "        elif len(left) > 0 and len(right) == 0:\n",
    "            return False\n",
    "        \n",
    "        # compare next element\n",
    "        l = left.pop(0)\n",
    "        r = right.pop(0)\n",
    "\n",
    "        if isinstance(l, list) and isinstance(r, int):\n",
    "            r = [r]\n",
    "        elif isinstance(l, int) and isinstance(r, list):\n",
    "            l = [l]\n",
    "\n",
    "        ordered = right_order(l, r)\n",
    "        if ordered is not None:\n",
    "            return ordered"
   ]
  },
  {
   "cell_type": "code",
   "execution_count": 218,
   "id": "712f7c76",
   "metadata": {
    "ExecuteTime": {
     "end_time": "2022-12-13T06:48:47.908487Z",
     "start_time": "2022-12-13T06:48:47.899673Z"
    }
   },
   "outputs": [
    {
     "data": {
      "text/plain": [
       "13"
      ]
     },
     "execution_count": 218,
     "metadata": {},
     "output_type": "execute_result"
    }
   ],
   "source": [
    "pairs = [x.split('\\n') for x in test.split('\\n\\n')]\n",
    "ordered_pairs = []\n",
    "for idx, (left, right) in enumerate(pairs):\n",
    "    left, right = eval(left), eval(right)\n",
    "    #print('->', left, '\\n->', right, type(left), type(right))\n",
    "    ordered = right_order(left, right)\n",
    "    #print('!', idx+1, ordered)\n",
    "    if ordered:\n",
    "        ordered_pairs.append(idx+1)\n",
    "sum(ordered_pairs)"
   ]
  },
  {
   "cell_type": "code",
   "execution_count": 219,
   "id": "a0f229dc",
   "metadata": {
    "ExecuteTime": {
     "end_time": "2022-12-13T06:48:48.417337Z",
     "start_time": "2022-12-13T06:48:48.395454Z"
    },
    "scrolled": true
   },
   "outputs": [],
   "source": [
    "pairs = [x.split('\\n') for x in input_.split('\\n\\n')]\n",
    "ordered_pairs = []\n",
    "for idx, (left, right) in enumerate(pairs):\n",
    "    left, right = eval(left), eval(right)\n",
    "    ordered = right_order(left, right)\n",
    "    if ordered:\n",
    "        ordered_pairs.append(idx+1)"
   ]
  },
  {
   "cell_type": "code",
   "execution_count": 220,
   "id": "75b7c57e",
   "metadata": {
    "ExecuteTime": {
     "end_time": "2022-12-13T06:48:48.808068Z",
     "start_time": "2022-12-13T06:48:48.803863Z"
    }
   },
   "outputs": [
    {
     "data": {
      "text/plain": [
       "5292"
      ]
     },
     "execution_count": 220,
     "metadata": {},
     "output_type": "execute_result"
    }
   ],
   "source": [
    "sum(ordered_pairs)"
   ]
  },
  {
   "cell_type": "markdown",
   "id": "984acafe",
   "metadata": {},
   "source": [
    "# Part 2"
   ]
  },
  {
   "cell_type": "code",
   "execution_count": 221,
   "id": "9435168c",
   "metadata": {
    "ExecuteTime": {
     "end_time": "2022-12-13T06:48:49.389413Z",
     "start_time": "2022-12-13T06:48:49.386568Z"
    }
   },
   "outputs": [],
   "source": [
    "from functools import cmp_to_key"
   ]
  },
  {
   "cell_type": "code",
   "execution_count": 222,
   "id": "8aed9724",
   "metadata": {
    "ExecuteTime": {
     "end_time": "2022-12-13T06:48:49.559538Z",
     "start_time": "2022-12-13T06:48:49.556344Z"
    }
   },
   "outputs": [],
   "source": [
    "def ro(left, right):\n",
    "    left = eval(left)\n",
    "    right = eval(right)\n",
    "    ordered = right_order(left, right)\n",
    "    if ordered:\n",
    "        return -1\n",
    "    return 1\n"
   ]
  },
  {
   "cell_type": "code",
   "execution_count": 223,
   "id": "d6d7e2f5",
   "metadata": {
    "ExecuteTime": {
     "end_time": "2022-12-13T06:48:49.872491Z",
     "start_time": "2022-12-13T06:48:49.867137Z"
    }
   },
   "outputs": [
    {
     "data": {
      "text/plain": [
       "['[1,1,3,1,1]',\n",
       " '[1,1,5,1,1]',\n",
       " '[[1],[2,3,4]]',\n",
       " '[[1],4]',\n",
       " '[9]',\n",
       " '[[8,7,6]]',\n",
       " '[[4,4],4,4]',\n",
       " '[[4,4],4,4,4]',\n",
       " '[7,7,7,7]',\n",
       " '[7,7,7]',\n",
       " '[]',\n",
       " '[3]',\n",
       " '[[[]]]',\n",
       " '[[]]',\n",
       " '[1,[2,[3,[4,[5,6,7]]]],8,9]',\n",
       " '[1,[2,[3,[4,[5,6,0]]]],8,9]',\n",
       " '[[2]]',\n",
       " '[[6]]']"
      ]
     },
     "execution_count": 223,
     "metadata": {},
     "output_type": "execute_result"
    }
   ],
   "source": [
    "dividers = ['[[2]]', '[[6]]']\n",
    "packets = [x for x in test.replace('\\n\\n', '\\n').splitlines()] + dividers\n",
    "packets\n"
   ]
  },
  {
   "cell_type": "code",
   "execution_count": 224,
   "id": "c1fb0ef4",
   "metadata": {
    "ExecuteTime": {
     "end_time": "2022-12-13T06:48:50.137547Z",
     "start_time": "2022-12-13T06:48:50.131045Z"
    }
   },
   "outputs": [
    {
     "data": {
      "text/plain": [
       "['[]',\n",
       " '[[]]',\n",
       " '[[[]]]',\n",
       " '[1,1,3,1,1]',\n",
       " '[1,1,5,1,1]',\n",
       " '[[1],[2,3,4]]',\n",
       " '[1,[2,[3,[4,[5,6,0]]]],8,9]',\n",
       " '[1,[2,[3,[4,[5,6,7]]]],8,9]',\n",
       " '[[1],4]',\n",
       " '[[2]]',\n",
       " '[3]',\n",
       " '[[4,4],4,4]',\n",
       " '[[4,4],4,4,4]',\n",
       " '[[6]]',\n",
       " '[7,7,7]',\n",
       " '[7,7,7,7]',\n",
       " '[[8,7,6]]',\n",
       " '[9]']"
      ]
     },
     "execution_count": 224,
     "metadata": {},
     "output_type": "execute_result"
    }
   ],
   "source": [
    "p = list(packets)\n",
    "ps = sorted(p, key=cmp_to_key(ro))\n",
    "ps"
   ]
  },
  {
   "cell_type": "code",
   "execution_count": 225,
   "id": "ea81361f",
   "metadata": {
    "ExecuteTime": {
     "end_time": "2022-12-13T06:48:50.345896Z",
     "start_time": "2022-12-13T06:48:50.341712Z"
    }
   },
   "outputs": [
    {
     "data": {
      "text/plain": [
       "140"
      ]
     },
     "execution_count": 225,
     "metadata": {},
     "output_type": "execute_result"
    }
   ],
   "source": [
    "(ps.index('[[2]]') + 1) * (ps.index('[[6]]') + 1)"
   ]
  },
  {
   "cell_type": "code",
   "execution_count": 226,
   "id": "02e80319",
   "metadata": {
    "ExecuteTime": {
     "end_time": "2022-12-13T06:48:50.995684Z",
     "start_time": "2022-12-13T06:48:50.762267Z"
    }
   },
   "outputs": [
    {
     "data": {
      "text/plain": [
       "23868"
      ]
     },
     "execution_count": 226,
     "metadata": {},
     "output_type": "execute_result"
    }
   ],
   "source": [
    "packets = [x for x in input_.replace('\\n\\n', '\\n').splitlines()] + dividers\n",
    "ps = sorted(packets, key=cmp_to_key(ro))\n",
    "(ps.index('[[2]]') + 1) * (ps.index('[[6]]') + 1)"
   ]
  },
  {
   "cell_type": "code",
   "execution_count": null,
   "id": "30640e07",
   "metadata": {},
   "outputs": [],
   "source": []
  },
  {
   "cell_type": "code",
   "execution_count": null,
   "id": "cfa780c4",
   "metadata": {},
   "outputs": [],
   "source": []
  }
 ],
 "metadata": {
  "hide_input": false,
  "kernelspec": {
   "display_name": "Python 3 (ipykernel)",
   "language": "python",
   "name": "python3"
  },
  "language_info": {
   "codemirror_mode": {
    "name": "ipython",
    "version": 3
   },
   "file_extension": ".py",
   "mimetype": "text/x-python",
   "name": "python",
   "nbconvert_exporter": "python",
   "pygments_lexer": "ipython3",
   "version": "3.10.8"
  },
  "toc": {
   "nav_menu": {
    "height": "12px",
    "width": "252px"
   },
   "navigate_menu": true,
   "number_sections": true,
   "sideBar": true,
   "threshold": 4,
   "toc_cell": false,
   "toc_section_display": "block",
   "toc_window_display": false
  }
 },
 "nbformat": 4,
 "nbformat_minor": 5
}
