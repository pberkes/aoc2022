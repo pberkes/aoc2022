{
 "cells": [
  {
   "cell_type": "code",
   "execution_count": 1,
   "id": "6a0bf45e",
   "metadata": {
    "ExecuteTime": {
     "end_time": "2022-12-11T17:42:21.609689Z",
     "start_time": "2022-12-11T17:42:20.933509Z"
    }
   },
   "outputs": [],
   "source": [
    "import matplotlib as plt\n",
    "import numpy as np"
   ]
  },
  {
   "cell_type": "code",
   "execution_count": 2,
   "id": "5b1cb3ac",
   "metadata": {
    "ExecuteTime": {
     "end_time": "2022-12-11T17:42:39.461986Z",
     "start_time": "2022-12-11T17:42:39.458728Z"
    }
   },
   "outputs": [],
   "source": [
    "test = \"\"\"\n",
    "Monkey 0:\n",
    "  Starting items: 79, 98\n",
    "  Operation: new = old * 19\n",
    "  Test: divisible by 23\n",
    "    If true: throw to monkey 2\n",
    "    If false: throw to monkey 3\n",
    "\n",
    "Monkey 1:\n",
    "  Starting items: 54, 65, 75, 74\n",
    "  Operation: new = old + 6\n",
    "  Test: divisible by 19\n",
    "    If true: throw to monkey 2\n",
    "    If false: throw to monkey 0\n",
    "\n",
    "Monkey 2:\n",
    "  Starting items: 79, 60, 97\n",
    "  Operation: new = old * old\n",
    "  Test: divisible by 13\n",
    "    If true: throw to monkey 1\n",
    "    If false: throw to monkey 3\n",
    "\n",
    "Monkey 3:\n",
    "  Starting items: 74\n",
    "  Operation: new = old + 3\n",
    "  Test: divisible by 17\n",
    "    If true: throw to monkey 0\n",
    "    If false: throw to monkey 1\n",
    "\"\"\".strip()"
   ]
  },
  {
   "cell_type": "code",
   "execution_count": 63,
   "id": "e63b6ffe",
   "metadata": {
    "ExecuteTime": {
     "end_time": "2022-12-11T19:31:27.169468Z",
     "start_time": "2022-12-11T19:31:27.156668Z"
    }
   },
   "outputs": [],
   "source": [
    "with open('input.txt', 'r') as f:\n",
    "    input_ = f.read().strip()"
   ]
  },
  {
   "cell_type": "markdown",
   "id": "533d4b56",
   "metadata": {},
   "source": [
    "# Part 1"
   ]
  },
  {
   "cell_type": "code",
   "execution_count": 55,
   "id": "c2ea8660",
   "metadata": {
    "ExecuteTime": {
     "end_time": "2022-12-11T19:30:06.988247Z",
     "start_time": "2022-12-11T19:30:06.980584Z"
    }
   },
   "outputs": [],
   "source": [
    "class Monkey:\n",
    "    def __init__(self, items, operation, test_divisible, true_monkey, false_monkey):\n",
    "        self.items = items\n",
    "        self.operation = operation\n",
    "        self.test_divisible = test_divisible\n",
    "        self.true_monkey = true_monkey\n",
    "        self.false_monkey = false_monkey\n",
    "        self.inspected = 0\n",
    "    \n",
    "    @classmethod\n",
    "    def from_str(klass, txt):\n",
    "        lines = txt.splitlines()\n",
    "        items = [int(x) for x in lines[1].strip().replace('Starting items: ', '').split(',')]\n",
    "        operation = lines[2].strip().replace('Operation: new = ', '')\n",
    "        test_divisible = int(lines[3].strip().replace('Test: divisible by ', ''))\n",
    "        true_monkey = int(lines[4].strip().replace('If true: throw to monkey ', ''))\n",
    "        false_monkey = int(lines[5].strip().replace('If false: throw to monkey ', ''))\n",
    "        return klass(items, operation, test_divisible, true_monkey, false_monkey)"
   ]
  },
  {
   "cell_type": "code",
   "execution_count": 57,
   "id": "4c730ec6",
   "metadata": {
    "ExecuteTime": {
     "end_time": "2022-12-11T19:30:07.425544Z",
     "start_time": "2022-12-11T19:30:07.421392Z"
    }
   },
   "outputs": [],
   "source": [
    "def execute_monkey(idx, monkeys):\n",
    "    m = monkeys[idx]\n",
    "    # inspect\n",
    "    items_after = [eval(m.operation, {'old': item}) // 3 for item in m.items]\n",
    "    m.inspected += len(m.items)\n",
    "    # throw\n",
    "    for item in items_after:\n",
    "        if item % m.test_divisible == 0:\n",
    "            monkeys[m.true_monkey].items.append(item)\n",
    "        else:\n",
    "            monkeys[m.false_monkey].items.append(item)\n",
    "    m.items = []"
   ]
  },
  {
   "cell_type": "code",
   "execution_count": 56,
   "id": "e11d2c67",
   "metadata": {
    "ExecuteTime": {
     "end_time": "2022-12-11T19:30:07.248172Z",
     "start_time": "2022-12-11T19:30:07.243831Z"
    }
   },
   "outputs": [
    {
     "data": {
      "text/plain": [
       "['Monkey 0:\\n  Starting items: 79, 98\\n  Operation: new = old * 19\\n  Test: divisible by 23\\n    If true: throw to monkey 2\\n    If false: throw to monkey 3',\n",
       " 'Monkey 1:\\n  Starting items: 54, 65, 75, 74\\n  Operation: new = old + 6\\n  Test: divisible by 19\\n    If true: throw to monkey 2\\n    If false: throw to monkey 0',\n",
       " 'Monkey 2:\\n  Starting items: 79, 60, 97\\n  Operation: new = old * old\\n  Test: divisible by 13\\n    If true: throw to monkey 1\\n    If false: throw to monkey 3',\n",
       " 'Monkey 3:\\n  Starting items: 74\\n  Operation: new = old + 3\\n  Test: divisible by 17\\n    If true: throw to monkey 0\\n    If false: throw to monkey 1']"
      ]
     },
     "execution_count": 56,
     "metadata": {},
     "output_type": "execute_result"
    }
   ],
   "source": [
    "monkeys_str = test.split('\\n\\n')\n",
    "monkeys_str"
   ]
  },
  {
   "cell_type": "code",
   "execution_count": 58,
   "id": "f201bace",
   "metadata": {
    "ExecuteTime": {
     "end_time": "2022-12-11T19:30:07.683113Z",
     "start_time": "2022-12-11T19:30:07.677798Z"
    }
   },
   "outputs": [],
   "source": [
    "monkeys = [Monkey.from_str(txt) for txt in monkeys_str]\n",
    "for _ in range(20):\n",
    "    for idx in range(len(monkeys)):\n",
    "        execute_monkey(idx, monkeys)\n",
    "inspections = sorted(m.inspected for m in monkeys)\n",
    "inspections[-1] * inspections[-2]"
   ]
  },
  {
   "cell_type": "code",
   "execution_count": 64,
   "id": "a8898d41",
   "metadata": {
    "ExecuteTime": {
     "end_time": "2022-12-11T19:31:36.658233Z",
     "start_time": "2022-12-11T19:31:36.644448Z"
    }
   },
   "outputs": [
    {
     "data": {
      "text/plain": [
       "58786"
      ]
     },
     "execution_count": 64,
     "metadata": {},
     "output_type": "execute_result"
    }
   ],
   "source": [
    "monkeys_str = input_.split('\\n\\n')\n",
    "monkeys = [Monkey.from_str(txt) for txt in monkeys_str]\n",
    "for _ in range(20):\n",
    "    for idx in range(len(monkeys)):\n",
    "        execute_monkey(idx, monkeys)\n",
    "inspections = sorted(m.inspected for m in monkeys)\n",
    "inspections[-1] * inspections[-2]"
   ]
  },
  {
   "cell_type": "markdown",
   "id": "984acafe",
   "metadata": {},
   "source": [
    "# Part 2"
   ]
  },
  {
   "cell_type": "code",
   "execution_count": 135,
   "id": "d6d7e2f5",
   "metadata": {
    "ExecuteTime": {
     "end_time": "2022-12-11T20:40:25.654040Z",
     "start_time": "2022-12-11T20:40:25.649800Z"
    }
   },
   "outputs": [],
   "source": [
    "def execute_monkey_worried(idx, monkeys, prime_factors_prod):\n",
    "    m = monkeys[idx]\n",
    "    # inspect\n",
    "    items = np.array(m.items, dtype=np.int64)\n",
    "    items_after = eval(m.operation, {'old': items}) % prime_factors_prod\n",
    "    m.inspected += len(m.items)\n",
    "    # throw\n",
    "    for item in items_after:\n",
    "        if item % m.test_divisible == 0:\n",
    "            monkeys[m.true_monkey].items.append(item)\n",
    "        else:\n",
    "            monkeys[m.false_monkey].items.append(item)\n",
    "    m.items = []"
   ]
  },
  {
   "cell_type": "code",
   "execution_count": 136,
   "id": "5d4a789e",
   "metadata": {
    "ExecuteTime": {
     "end_time": "2022-12-11T20:40:27.349823Z",
     "start_time": "2022-12-11T20:40:26.593943Z"
    },
    "scrolled": true
   },
   "outputs": [
    {
     "name": "stdout",
     "output_type": "stream",
     "text": [
      "0 [2, 4, 3, 6]\n",
      "1000 [5211, 4795, 199, 5199]\n",
      "2000 [10424, 9582, 392, 10396]\n",
      "3000 [15644, 14362, 587, 15599]\n",
      "4000 [20863, 19143, 780, 20802]\n",
      "5000 [26078, 23928, 974, 26003]\n",
      "6000 [31298, 28708, 1165, 31208]\n",
      "7000 [36512, 33494, 1360, 36404]\n",
      "8000 [41733, 38273, 1553, 41611]\n",
      "9000 [46950, 43056, 1746, 46812]\n",
      "9999 [1938, 47830, 52013, 52166] 2713310158\n"
     ]
    }
   ],
   "source": [
    "monkeys_str = test.split('\\n\\n')\n",
    "monkeys = [Monkey.from_str(txt) for txt in monkeys_str]\n",
    "prime_factors_prod = np.prod([m.test_divisible for m in monkeys])\n",
    "for n in range(10000):\n",
    "    for idx in range(len(monkeys)):\n",
    "        execute_monkey_worried(idx, monkeys, prime_factors_prod)\n",
    "    if n % 1000 == 0:\n",
    "        inspections = [m.inspected for m in monkeys]\n",
    "        print(n, inspections)\n",
    "inspections = sorted([m.inspected for m in monkeys])\n",
    "print(n, inspections, inspections[-1] * inspections[-2])"
   ]
  },
  {
   "cell_type": "code",
   "execution_count": 138,
   "id": "f0e26e74",
   "metadata": {
    "ExecuteTime": {
     "end_time": "2022-12-11T20:41:02.316516Z",
     "start_time": "2022-12-11T20:41:00.648681Z"
    }
   },
   "outputs": [
    {
     "name": "stdout",
     "output_type": "stream",
     "text": [
      "0 [6, 5, 3, 12, 4, 4, 16, 12]\n",
      "1000 [8329, 5761, 4394, 11074, 12723, 2250, 10581, 11763]\n",
      "2000 [16628, 11612, 8792, 22097, 25421, 4426, 21185, 23540]\n",
      "3000 [24918, 17461, 13197, 33123, 38118, 6600, 31788, 35320]\n",
      "4000 [33218, 23300, 17592, 44157, 50812, 8761, 42398, 47100]\n",
      "5000 [41517, 29146, 21989, 55180, 63510, 10934, 53005, 58875]\n",
      "6000 [49810, 34987, 26393, 66197, 76211, 13108, 63613, 70647]\n",
      "7000 [58115, 40838, 30787, 77223, 88902, 15280, 74223, 82431]\n",
      "8000 [66409, 46688, 35187, 88255, 101595, 17447, 84832, 94214]\n",
      "9000 [74706, 52537, 39585, 99275, 114293, 19623, 95438, 105991]\n",
      "9999 [21790, 43976, 58377, 82999, 106038, 110288, 117756, 126976] 14952185856\n"
     ]
    }
   ],
   "source": [
    "monkeys_str = input_.split('\\n\\n')\n",
    "monkeys = [Monkey.from_str(txt) for txt in monkeys_str]\n",
    "prime_factors_prod = np.prod([m.test_divisible for m in monkeys])\n",
    "for n in range(10000):\n",
    "    for idx in range(len(monkeys)):\n",
    "        execute_monkey_worried(idx, monkeys, prime_factors_prod)\n",
    "    if n % 1000 == 0:\n",
    "        inspections = [m.inspected for m in monkeys]\n",
    "        print(n, inspections)\n",
    "inspections = sorted([m.inspected for m in monkeys])\n",
    "print(n, inspections, inspections[-1] * inspections[-2])"
   ]
  },
  {
   "cell_type": "code",
   "execution_count": null,
   "id": "90260ab5",
   "metadata": {},
   "outputs": [],
   "source": []
  }
 ],
 "metadata": {
  "hide_input": false,
  "kernelspec": {
   "display_name": "Python 3 (ipykernel)",
   "language": "python",
   "name": "python3"
  },
  "language_info": {
   "codemirror_mode": {
    "name": "ipython",
    "version": 3
   },
   "file_extension": ".py",
   "mimetype": "text/x-python",
   "name": "python",
   "nbconvert_exporter": "python",
   "pygments_lexer": "ipython3",
   "version": "3.10.8"
  },
  "toc": {
   "nav_menu": {
    "height": "12px",
    "width": "252px"
   },
   "navigate_menu": true,
   "number_sections": true,
   "sideBar": true,
   "threshold": 4,
   "toc_cell": false,
   "toc_section_display": "block",
   "toc_window_display": false
  }
 },
 "nbformat": 4,
 "nbformat_minor": 5
}
