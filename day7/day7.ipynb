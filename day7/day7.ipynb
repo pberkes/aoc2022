{
 "cells": [
  {
   "cell_type": "code",
   "execution_count": 1,
   "id": "6a0bf45e",
   "metadata": {
    "ExecuteTime": {
     "end_time": "2022-12-02T05:18:22.341580Z",
     "start_time": "2022-12-02T05:18:21.400288Z"
    }
   },
   "outputs": [],
   "source": [
    "from pprint import pprint"
   ]
  },
  {
   "cell_type": "code",
   "execution_count": 13,
   "id": "5b1cb3ac",
   "metadata": {
    "ExecuteTime": {
     "end_time": "2022-12-07T06:43:57.809500Z",
     "start_time": "2022-12-07T06:43:57.804179Z"
    }
   },
   "outputs": [],
   "source": [
    "test = \"\"\"\n",
    "$ cd /\n",
    "$ ls\n",
    "dir a\n",
    "14848514 b.txt\n",
    "8504156 c.dat\n",
    "dir d\n",
    "$ cd a\n",
    "$ ls\n",
    "dir e\n",
    "29116 f\n",
    "2557 g\n",
    "62596 h.lst\n",
    "$ cd e\n",
    "$ ls\n",
    "584 i\n",
    "$ cd ..\n",
    "$ cd ..\n",
    "$ cd d\n",
    "$ ls\n",
    "4060174 j\n",
    "8033020 d.log\n",
    "5626152 d.ext\n",
    "7214296 k\n",
    "\"\"\".strip()"
   ]
  },
  {
   "cell_type": "code",
   "execution_count": 21,
   "id": "e63b6ffe",
   "metadata": {
    "ExecuteTime": {
     "end_time": "2022-12-07T06:46:13.535234Z",
     "start_time": "2022-12-07T06:46:13.531870Z"
    }
   },
   "outputs": [],
   "source": [
    "with open('input.txt', 'r') as f:\n",
    "    input_ = f.read()"
   ]
  },
  {
   "cell_type": "markdown",
   "id": "533d4b56",
   "metadata": {},
   "source": [
    "# Part 1"
   ]
  },
  {
   "cell_type": "code",
   "execution_count": 139,
   "id": "0dc30c61",
   "metadata": {
    "ExecuteTime": {
     "end_time": "2022-12-07T10:08:47.745916Z",
     "start_time": "2022-12-07T10:08:47.732769Z"
    }
   },
   "outputs": [],
   "source": [
    "def parse_tree(lines):\n",
    "    tree = current = {}\n",
    "    dir_stack = [current]\n",
    "    for line in lines:\n",
    "        content = line.split()\n",
    "        match content:\n",
    "            case ['$', 'cd', '..']:\n",
    "                dir_stack.pop()\n",
    "                current = dir_stack[-1]\n",
    "            \n",
    "            case ['$', 'cd', where]:\n",
    "                current[where] = {}\n",
    "                current = current[where]\n",
    "                dir_stack.append(current)\n",
    "                \n",
    "            case ['$', 'ls']:\n",
    "                pass\n",
    "            \n",
    "            case ['dir', name]:\n",
    "                pass\n",
    "\n",
    "            case [size, name]:\n",
    "                current[name] = size\n",
    "\n",
    "    return tree\n"
   ]
  },
  {
   "cell_type": "code",
   "execution_count": 259,
   "id": "53355004",
   "metadata": {
    "ExecuteTime": {
     "end_time": "2022-12-07T11:03:20.985848Z",
     "start_time": "2022-12-07T11:03:20.978641Z"
    }
   },
   "outputs": [
    {
     "name": "stdout",
     "output_type": "stream",
     "text": [
      "{'/': {'a': {'e': {'i': '584'}, 'f': '29116', 'g': '2557', 'h.lst': '62596'},\n",
      "       'b.txt': '14848514',\n",
      "       'c.dat': '8504156',\n",
      "       'd': {'d.ext': '5626152',\n",
      "             'd.log': '8033020',\n",
      "             'j': '4060174',\n",
      "             'k': '7214296'}}}\n"
     ]
    }
   ],
   "source": [
    "pprint(parse_tree(test.splitlines()))"
   ]
  },
  {
   "cell_type": "code",
   "execution_count": 260,
   "id": "2d01f2a6",
   "metadata": {
    "ExecuteTime": {
     "end_time": "2022-12-07T11:03:21.766677Z",
     "start_time": "2022-12-07T11:03:21.758394Z"
    }
   },
   "outputs": [],
   "source": [
    "def collect_sizes(tree, collect_dirs=0):\n",
    "    sizes = {}\n",
    "    tot = 0\n",
    "    for key, value in tree.items():\n",
    "        if type(value) is dict:\n",
    "            #print('entering', key, sizes)\n",
    "            sizes_dir, collect_dirs, tot_dir = collect_sizes(value, collect_dirs)\n",
    "            if tot_dir <= 100_000:\n",
    "                collect_dirs += tot_dir\n",
    "            sizes[key] = sizes_dir, tot_dir\n",
    "        else:\n",
    "            sizes[key] = None, int(value)\n",
    "        tot += sizes[key][1]\n",
    "        #print('exiting', key, 'tot', tot, sizes)\n",
    "    \n",
    "    return sizes, collect_dirs, tot"
   ]
  },
  {
   "cell_type": "code",
   "execution_count": 261,
   "id": "0b4dd89d",
   "metadata": {
    "ExecuteTime": {
     "end_time": "2022-12-07T11:03:22.109652Z",
     "start_time": "2022-12-07T11:03:22.103169Z"
    },
    "scrolled": true
   },
   "outputs": [
    {
     "data": {
      "text/plain": [
       "95437"
      ]
     },
     "execution_count": 261,
     "metadata": {},
     "output_type": "execute_result"
    }
   ],
   "source": [
    "sizes, collect_dirs, tot = collect_sizes(parse_tree(test.splitlines()))\n",
    "collect_dirs"
   ]
  },
  {
   "cell_type": "code",
   "execution_count": 262,
   "id": "7759b659",
   "metadata": {
    "ExecuteTime": {
     "end_time": "2022-12-07T11:03:22.587480Z",
     "start_time": "2022-12-07T11:03:22.582046Z"
    },
    "scrolled": true
   },
   "outputs": [
    {
     "data": {
      "text/plain": [
       "1118405"
      ]
     },
     "execution_count": 262,
     "metadata": {},
     "output_type": "execute_result"
    }
   ],
   "source": [
    "sizes, collect_dirs, tot = collect_sizes(parse_tree(input_.splitlines()))\n",
    "collect_dirs"
   ]
  },
  {
   "cell_type": "markdown",
   "id": "984acafe",
   "metadata": {},
   "source": [
    "# Part 2"
   ]
  },
  {
   "cell_type": "code",
   "execution_count": 263,
   "id": "600ac15f",
   "metadata": {
    "ExecuteTime": {
     "end_time": "2022-12-07T11:03:23.250280Z",
     "start_time": "2022-12-07T11:03:23.243552Z"
    }
   },
   "outputs": [],
   "source": [
    "def collect_dirs_to_delete(tree, collect_dirs=None):\n",
    "    if collect_dirs is None:\n",
    "        collect_dirs = {}\n",
    "    sizes = {}\n",
    "    tot = 0\n",
    "    for key, value in tree.items():\n",
    "        if type(value) is dict:\n",
    "            #print('entering', key, sizes)\n",
    "            sizes_dir, collect_dirs, tot_dir = collect_dirs_to_delete(value, collect_dirs)\n",
    "            collect_dirs[key] = tot_dir\n",
    "            sizes[key] = sizes_dir, tot_dir\n",
    "        else:\n",
    "            sizes[key] = None, int(value)\n",
    "        tot += sizes[key][1]\n",
    "        #print('exiting', key, 'tot', tot, sizes)\n",
    "    \n",
    "    return sizes, collect_dirs, tot"
   ]
  },
  {
   "cell_type": "code",
   "execution_count": 265,
   "id": "108358e8",
   "metadata": {
    "ExecuteTime": {
     "end_time": "2022-12-07T11:03:30.134539Z",
     "start_time": "2022-12-07T11:03:30.128519Z"
    }
   },
   "outputs": [],
   "source": [
    "sizes, collect_dirs, tot = collect_dirs_to_delete(parse_tree(test.splitlines()))"
   ]
  },
  {
   "cell_type": "code",
   "execution_count": 266,
   "id": "9ec71af2",
   "metadata": {
    "ExecuteTime": {
     "end_time": "2022-12-07T11:03:30.988464Z",
     "start_time": "2022-12-07T11:03:30.983916Z"
    }
   },
   "outputs": [
    {
     "data": {
      "text/plain": [
       "8381165"
      ]
     },
     "execution_count": 266,
     "metadata": {},
     "output_type": "execute_result"
    }
   ],
   "source": [
    "need_free = 30000000 - (70000000 - tot)\n",
    "need_free"
   ]
  },
  {
   "cell_type": "code",
   "execution_count": 267,
   "id": "1a97c230",
   "metadata": {
    "ExecuteTime": {
     "end_time": "2022-12-07T11:03:31.754078Z",
     "start_time": "2022-12-07T11:03:31.748003Z"
    }
   },
   "outputs": [
    {
     "data": {
      "text/plain": [
       "'d'"
      ]
     },
     "execution_count": 267,
     "metadata": {},
     "output_type": "execute_result"
    }
   ],
   "source": [
    "eligible = {k: v for k,v in collect_dirs.items() if v > need_free}\n",
    "min(eligible, key=lambda k: eligible[k])"
   ]
  },
  {
   "cell_type": "code",
   "execution_count": 268,
   "id": "40c78c1d",
   "metadata": {
    "ExecuteTime": {
     "end_time": "2022-12-07T11:03:33.058914Z",
     "start_time": "2022-12-07T11:03:33.054100Z"
    }
   },
   "outputs": [],
   "source": [
    "sizes, collect_dirs, tot = collect_dirs_to_delete(parse_tree(input_.splitlines()))"
   ]
  },
  {
   "cell_type": "code",
   "execution_count": 269,
   "id": "8db1314d",
   "metadata": {
    "ExecuteTime": {
     "end_time": "2022-12-07T11:03:33.394682Z",
     "start_time": "2022-12-07T11:03:33.384512Z"
    }
   },
   "outputs": [
    {
     "data": {
      "text/plain": [
       "10216456"
      ]
     },
     "execution_count": 269,
     "metadata": {},
     "output_type": "execute_result"
    }
   ],
   "source": [
    "need_free = 30000000 - (70000000 - tot)\n",
    "need_free"
   ]
  },
  {
   "cell_type": "code",
   "execution_count": 270,
   "id": "5b751844",
   "metadata": {
    "ExecuteTime": {
     "end_time": "2022-12-07T11:03:33.914179Z",
     "start_time": "2022-12-07T11:03:33.909000Z"
    }
   },
   "outputs": [
    {
     "data": {
      "text/plain": [
       "'blvcjl'"
      ]
     },
     "execution_count": 270,
     "metadata": {},
     "output_type": "execute_result"
    }
   ],
   "source": [
    "eligible = {k: v for k,v in collect_dirs.items() if v > need_free}\n",
    "min(eligible, key=lambda k: eligible[k])"
   ]
  },
  {
   "cell_type": "code",
   "execution_count": 271,
   "id": "9d5c80ad",
   "metadata": {
    "ExecuteTime": {
     "end_time": "2022-12-07T11:03:34.166683Z",
     "start_time": "2022-12-07T11:03:34.162385Z"
    }
   },
   "outputs": [
    {
     "data": {
      "text/plain": [
       "12545514"
      ]
     },
     "execution_count": 271,
     "metadata": {},
     "output_type": "execute_result"
    }
   ],
   "source": [
    "eligible['blvcjl']"
   ]
  },
  {
   "cell_type": "code",
   "execution_count": null,
   "id": "ffd4fef6",
   "metadata": {},
   "outputs": [],
   "source": []
  }
 ],
 "metadata": {
  "hide_input": false,
  "kernelspec": {
   "display_name": "Python 3 (ipykernel)",
   "language": "python",
   "name": "python3"
  },
  "language_info": {
   "codemirror_mode": {
    "name": "ipython",
    "version": 3
   },
   "file_extension": ".py",
   "mimetype": "text/x-python",
   "name": "python",
   "nbconvert_exporter": "python",
   "pygments_lexer": "ipython3",
   "version": "3.10.8"
  },
  "toc": {
   "nav_menu": {
    "height": "12px",
    "width": "252px"
   },
   "navigate_menu": true,
   "number_sections": true,
   "sideBar": true,
   "threshold": 4,
   "toc_cell": false,
   "toc_section_display": "block",
   "toc_window_display": false
  }
 },
 "nbformat": 4,
 "nbformat_minor": 5
}
