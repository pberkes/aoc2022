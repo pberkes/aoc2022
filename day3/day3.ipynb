{
 "cells": [
  {
   "cell_type": "markdown",
   "id": "76aed1be",
   "metadata": {},
   "source": [
    "# Part 1"
   ]
  },
  {
   "cell_type": "code",
   "execution_count": 1,
   "id": "b93eba35",
   "metadata": {
    "ExecuteTime": {
     "end_time": "2022-12-04T10:07:10.341198Z",
     "start_time": "2022-12-04T10:07:10.331011Z"
    }
   },
   "outputs": [],
   "source": [
    "test = \"\"\"\n",
    "vJrwpWtwJgWrhcsFMMfFFhFp\n",
    "jqHRNqRjqzjGDLGLrsFMfFZSrLrFZsSL\n",
    "PmmdzqPrVvPwwTWBwg\n",
    "wMqvLMZHhHMvwLHjbvcjnnSBnvTQFn\n",
    "ttgJtRGJQctTZtZT\n",
    "CrZsJsPPZsGzwwsLwLmpwMDw\n",
    "\"\"\".split()"
   ]
  },
  {
   "cell_type": "code",
   "execution_count": 2,
   "id": "f96f169c",
   "metadata": {
    "ExecuteTime": {
     "end_time": "2022-12-04T10:07:10.349776Z",
     "start_time": "2022-12-04T10:07:10.343923Z"
    }
   },
   "outputs": [],
   "source": [
    "def priority(letter):\n",
    "    if letter.islower():\n",
    "        priority = ord(letter) - 96\n",
    "    else:\n",
    "        priority = ord(letter) - 38\n",
    "    return priority\n",
    "\n",
    "\n",
    "def overlap(input_):  \n",
    "    total = 0\n",
    "    for line in input_:\n",
    "        half = len(line) // 2\n",
    "        common = set(line[:half]).intersection(set(line[half:]))\n",
    "        for x in common:\n",
    "            total += priority(x)\n",
    "    return total"
   ]
  },
  {
   "cell_type": "code",
   "execution_count": 3,
   "id": "0eac7a92",
   "metadata": {
    "ExecuteTime": {
     "end_time": "2022-12-04T10:07:10.365154Z",
     "start_time": "2022-12-04T10:07:10.351582Z"
    }
   },
   "outputs": [
    {
     "data": {
      "text/plain": [
       "157"
      ]
     },
     "execution_count": 3,
     "metadata": {},
     "output_type": "execute_result"
    }
   ],
   "source": [
    "overlap(test)"
   ]
  },
  {
   "cell_type": "code",
   "execution_count": 4,
   "id": "d58768bd",
   "metadata": {
    "ExecuteTime": {
     "end_time": "2022-12-04T10:07:10.372609Z",
     "start_time": "2022-12-04T10:07:10.368692Z"
    }
   },
   "outputs": [],
   "source": [
    "with open('input.txt', 'r') as f:\n",
    "    input_ = f.read().split()"
   ]
  },
  {
   "cell_type": "code",
   "execution_count": 5,
   "id": "a9381cbb",
   "metadata": {
    "ExecuteTime": {
     "end_time": "2022-12-04T10:07:10.382753Z",
     "start_time": "2022-12-04T10:07:10.375633Z"
    }
   },
   "outputs": [
    {
     "data": {
      "text/plain": [
       "7568"
      ]
     },
     "execution_count": 5,
     "metadata": {},
     "output_type": "execute_result"
    }
   ],
   "source": [
    "overlap(input_)"
   ]
  },
  {
   "cell_type": "markdown",
   "id": "5abee047",
   "metadata": {},
   "source": [
    "# Part 2"
   ]
  },
  {
   "cell_type": "code",
   "execution_count": 6,
   "id": "6425cb81",
   "metadata": {
    "ExecuteTime": {
     "end_time": "2022-12-04T10:07:10.388978Z",
     "start_time": "2022-12-04T10:07:10.384984Z"
    }
   },
   "outputs": [],
   "source": [
    "def three_elves_overlap(input_):\n",
    "    n_rucksacks = len(input_)\n",
    "    total = 0\n",
    "    for i in range(0, len(input_), 3):\n",
    "        group = input_[i:i+3]\n",
    "        common = set(group[0]).intersection(group[1]).intersection(group[2])\n",
    "        for x in common:\n",
    "            total += priority(x)\n",
    "    return total"
   ]
  },
  {
   "cell_type": "code",
   "execution_count": 7,
   "id": "a4297617",
   "metadata": {
    "ExecuteTime": {
     "end_time": "2022-12-04T10:07:10.400480Z",
     "start_time": "2022-12-04T10:07:10.392727Z"
    }
   },
   "outputs": [
    {
     "data": {
      "text/plain": [
       "70"
      ]
     },
     "execution_count": 7,
     "metadata": {},
     "output_type": "execute_result"
    }
   ],
   "source": [
    "three_elves_overlap(test)"
   ]
  },
  {
   "cell_type": "code",
   "execution_count": 8,
   "id": "17493a88",
   "metadata": {
    "ExecuteTime": {
     "end_time": "2022-12-04T10:07:10.408641Z",
     "start_time": "2022-12-04T10:07:10.402847Z"
    }
   },
   "outputs": [
    {
     "data": {
      "text/plain": [
       "2780"
      ]
     },
     "execution_count": 8,
     "metadata": {},
     "output_type": "execute_result"
    }
   ],
   "source": [
    "three_elves_overlap(input_)"
   ]
  },
  {
   "cell_type": "code",
   "execution_count": null,
   "id": "32bc9c92",
   "metadata": {},
   "outputs": [],
   "source": []
  }
 ],
 "metadata": {
  "hide_input": false,
  "kernelspec": {
   "display_name": "Python 3 (ipykernel)",
   "language": "python",
   "name": "python3"
  },
  "language_info": {
   "codemirror_mode": {
    "name": "ipython",
    "version": 3
   },
   "file_extension": ".py",
   "mimetype": "text/x-python",
   "name": "python",
   "nbconvert_exporter": "python",
   "pygments_lexer": "ipython3",
   "version": "3.10.8"
  },
  "toc": {
   "nav_menu": {
    "height": "49.1406px",
    "width": "252px"
   },
   "navigate_menu": true,
   "number_sections": true,
   "sideBar": true,
   "threshold": 4,
   "toc_cell": false,
   "toc_section_display": "block",
   "toc_window_display": false
  }
 },
 "nbformat": 4,
 "nbformat_minor": 5
}
