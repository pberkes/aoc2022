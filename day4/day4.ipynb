{
 "cells": [
  {
   "cell_type": "markdown",
   "id": "d0d88ff3",
   "metadata": {},
   "source": [
    "# Part 1"
   ]
  },
  {
   "cell_type": "code",
   "execution_count": 13,
   "id": "afe9815d",
   "metadata": {
    "ExecuteTime": {
     "end_time": "2022-12-04T10:07:42.606846Z",
     "start_time": "2022-12-04T10:07:42.600037Z"
    }
   },
   "outputs": [],
   "source": [
    "test = \"\"\"\n",
    "2-4,6-8\n",
    "2-3,4-5\n",
    "5-7,7-9\n",
    "2-8,3-7\n",
    "6-6,4-6\n",
    "2-6,4-8\n",
    "\"\"\".strip().split()"
   ]
  },
  {
   "cell_type": "code",
   "execution_count": 17,
   "id": "4d170816",
   "metadata": {
    "ExecuteTime": {
     "end_time": "2022-12-04T10:09:38.751184Z",
     "start_time": "2022-12-04T10:09:38.746915Z"
    }
   },
   "outputs": [],
   "source": [
    "def are_ranges_overlapping(line):\n",
    "    ranges_txt = line.split(',')\n",
    "    r1 = [int(x) for x in ranges_txt[0].split('-')]\n",
    "    r2 = [int(x) for x in ranges_txt[1].split('-')]\n",
    "\n",
    "    overlapping = ((r1[0] >= r2[0]) & (r1[1] <= r2[1])) | ((r2[0] >= r1[0]) & (r2[1] <= r1[1]))\n",
    "    return overlapping\n",
    "\n",
    "def total_overlapping(input_):\n",
    "    return sum(are_ranges_overlapping(line) for line in input_)"
   ]
  },
  {
   "cell_type": "code",
   "execution_count": 18,
   "id": "6c4b4b52",
   "metadata": {
    "ExecuteTime": {
     "end_time": "2022-12-04T10:09:44.502830Z",
     "start_time": "2022-12-04T10:09:44.498358Z"
    }
   },
   "outputs": [
    {
     "data": {
      "text/plain": [
       "2"
      ]
     },
     "execution_count": 18,
     "metadata": {},
     "output_type": "execute_result"
    }
   ],
   "source": [
    "total_overlapping(test)"
   ]
  },
  {
   "cell_type": "code",
   "execution_count": 8,
   "id": "1a3db826",
   "metadata": {
    "ExecuteTime": {
     "end_time": "2022-12-04T09:54:49.166821Z",
     "start_time": "2022-12-04T09:54:49.163071Z"
    }
   },
   "outputs": [],
   "source": [
    "with open('input.txt', 'r') as f:\n",
    "    input_ = f.read().split()"
   ]
  },
  {
   "cell_type": "code",
   "execution_count": 19,
   "id": "1894c5de",
   "metadata": {
    "ExecuteTime": {
     "end_time": "2022-12-04T10:09:51.475157Z",
     "start_time": "2022-12-04T10:09:51.466278Z"
    }
   },
   "outputs": [
    {
     "data": {
      "text/plain": [
       "477"
      ]
     },
     "execution_count": 19,
     "metadata": {},
     "output_type": "execute_result"
    }
   ],
   "source": [
    "total_overlapping(input_)"
   ]
  },
  {
   "cell_type": "markdown",
   "id": "c742bc11",
   "metadata": {},
   "source": [
    "# Part 2"
   ]
  },
  {
   "cell_type": "code",
   "execution_count": 20,
   "id": "ae69c7a3",
   "metadata": {
    "ExecuteTime": {
     "end_time": "2022-12-04T10:10:38.973295Z",
     "start_time": "2022-12-04T10:10:38.968900Z"
    }
   },
   "outputs": [],
   "source": [
    "def are_ranges_intersecting(line):\n",
    "    ranges_txt = line.split(',')\n",
    "    r1 = [int(x) for x in ranges_txt[0].split('-')]\n",
    "    r2 = [int(x) for x in ranges_txt[1].split('-')]\n",
    "\n",
    "    intersecting = ((r1[0] <= r2[1]) & (r1[1] >= r2[0])) | ((r2[0] <= r1[1]) & (r2[1] >= r1[0]))\n",
    "    return intersecting\n",
    "\n",
    "def total_intersecting(input_):\n",
    "    return sum(are_ranges_intersecting(line) for line in input_)"
   ]
  },
  {
   "cell_type": "code",
   "execution_count": 21,
   "id": "8570b3d3",
   "metadata": {
    "ExecuteTime": {
     "end_time": "2022-12-04T10:10:43.891154Z",
     "start_time": "2022-12-04T10:10:43.887185Z"
    }
   },
   "outputs": [
    {
     "data": {
      "text/plain": [
       "4"
      ]
     },
     "execution_count": 21,
     "metadata": {},
     "output_type": "execute_result"
    }
   ],
   "source": [
    "total_intersecting(test)"
   ]
  },
  {
   "cell_type": "code",
   "execution_count": 22,
   "id": "f346d118",
   "metadata": {
    "ExecuteTime": {
     "end_time": "2022-12-04T10:10:49.150561Z",
     "start_time": "2022-12-04T10:10:49.144218Z"
    }
   },
   "outputs": [
    {
     "data": {
      "text/plain": [
       "830"
      ]
     },
     "execution_count": 22,
     "metadata": {},
     "output_type": "execute_result"
    }
   ],
   "source": [
    "total_intersecting(input_)"
   ]
  },
  {
   "cell_type": "code",
   "execution_count": null,
   "id": "3458c563",
   "metadata": {},
   "outputs": [],
   "source": []
  }
 ],
 "metadata": {
  "hide_input": false,
  "kernelspec": {
   "display_name": "Python 3 (ipykernel)",
   "language": "python",
   "name": "python3"
  },
  "language_info": {
   "codemirror_mode": {
    "name": "ipython",
    "version": 3
   },
   "file_extension": ".py",
   "mimetype": "text/x-python",
   "name": "python",
   "nbconvert_exporter": "python",
   "pygments_lexer": "ipython3",
   "version": "3.10.8"
  },
  "toc": {
   "nav_menu": {
    "height": "49.1406px",
    "width": "252px"
   },
   "navigate_menu": true,
   "number_sections": true,
   "sideBar": true,
   "threshold": 4,
   "toc_cell": false,
   "toc_section_display": "block",
   "toc_window_display": false
  }
 },
 "nbformat": 4,
 "nbformat_minor": 5
}
